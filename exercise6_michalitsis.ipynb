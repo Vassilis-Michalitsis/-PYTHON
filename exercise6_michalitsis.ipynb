{
  "cells": [
    {
      "cell_type": "markdown",
      "metadata": {
        "id": "view-in-github",
        "colab_type": "text"
      },
      "source": [
        "<a href=\"https://colab.research.google.com/github/Vassilis-Michalitsis/-PYTHON/blob/main/exercise6_michalitsis.ipynb\" target=\"_parent\"><img src=\"https://colab.research.google.com/assets/colab-badge.svg\" alt=\"Open In Colab\"/></a>"
      ]
    },
    {
      "cell_type": "markdown",
      "metadata": {
        "id": "RXN7sNeN8dZG"
      },
      "source": [
        "# Workflow βασικής ανάλυσης δεδομένων\n",
        "\n",
        "Αυτή η εργασία περιγράφει μια ενδεικτική ροή εργασιών (workflow) που ακολουθούμε για τη βασική ανάλυση δεδομένων.\n",
        "\n",
        "Ακολουθήστε το ροή του notebook, διαβάστε τις πληροφορίες, τις οδηγίες και τις συμβουλές, συμπληρώστε τον κώδικα που λείπει και τέλος κάντε τις δικές σας αναλύσεις."
      ]
    },
    {
      "cell_type": "markdown",
      "metadata": {
        "id": "NoDs3Hf_CaSn"
      },
      "source": [
        "**Ανάλυση ενός dataset με ταινίες από το IMDB**\n",
        "\n",
        "Έχουμε ένα αρχείο .csv το οποίο περιέχει τις καλύτερες 1000 ταινίες του IMDB.\n",
        "\n",
        "Χρησιμοποιώντας την Python και τις βιβλιοθήκες Pandas και Matplotlib:\n",
        "\n",
        "* εξετάστε τα δεδομένα\n",
        "* δημιουργήσε οπτικοποιήσεις για να κάνετε καλύτερες παρατηρήσεις\n",
        "* εντοπίστε θέματα για διερεύνηση\n",
        "* θέστε ενδιαφέροντα ερωτήματα\n",
        "* κάνετε περισσότερες αναλύσεις συνδυάζοντας τα δεδομένα, και\n",
        "* γράψτε μια μικρή παράγραφο με τα σημαντικότερα ευρήματά σας"
      ]
    },
    {
      "cell_type": "markdown",
      "metadata": {
        "id": "bywjItX-Y6ZH"
      },
      "source": [
        "## **1. Εισαγωγή βιβλιοθηκών**\n",
        "\n",
        "Εισάγουμε στο notebook τα pandas ως pd και τη matplotlib.pyplot ως plt  "
      ]
    },
    {
      "cell_type": "code",
      "execution_count": null,
      "metadata": {
        "id": "Gj_P-6fRPAXH",
        "outputId": "59b90bce-c4ef-45bf-f053-f91d9d92bfd3"
      },
      "outputs": [
        {
          "name": "stdout",
          "output_type": "stream",
          "text": [
            "Requirement already satisfied: pandas in /home/alkis/miniconda3/lib/python3.12/site-packages (2.2.3)\n",
            "Requirement already satisfied: numpy>=1.26.0 in /home/alkis/miniconda3/lib/python3.12/site-packages (from pandas) (2.2.5)\n",
            "Requirement already satisfied: python-dateutil>=2.8.2 in /home/alkis/miniconda3/lib/python3.12/site-packages (from pandas) (2.9.0.post0)\n",
            "Requirement already satisfied: pytz>=2020.1 in /home/alkis/miniconda3/lib/python3.12/site-packages (from pandas) (2025.2)\n",
            "Requirement already satisfied: tzdata>=2022.7 in /home/alkis/miniconda3/lib/python3.12/site-packages (from pandas) (2025.2)\n",
            "Requirement already satisfied: six>=1.5 in /home/alkis/miniconda3/lib/python3.12/site-packages (from python-dateutil>=2.8.2->pandas) (1.17.0)\n",
            "Requirement already satisfied: matplotlib in /home/alkis/miniconda3/lib/python3.12/site-packages (3.10.1)\n",
            "Requirement already satisfied: contourpy>=1.0.1 in /home/alkis/miniconda3/lib/python3.12/site-packages (from matplotlib) (1.3.2)\n",
            "Requirement already satisfied: cycler>=0.10 in /home/alkis/miniconda3/lib/python3.12/site-packages (from matplotlib) (0.12.1)\n",
            "Requirement already satisfied: fonttools>=4.22.0 in /home/alkis/miniconda3/lib/python3.12/site-packages (from matplotlib) (4.57.0)\n",
            "Requirement already satisfied: kiwisolver>=1.3.1 in /home/alkis/miniconda3/lib/python3.12/site-packages (from matplotlib) (1.4.8)\n",
            "Requirement already satisfied: numpy>=1.23 in /home/alkis/miniconda3/lib/python3.12/site-packages (from matplotlib) (2.2.5)\n",
            "Requirement already satisfied: packaging>=20.0 in /home/alkis/miniconda3/lib/python3.12/site-packages (from matplotlib) (24.2)\n",
            "Requirement already satisfied: pillow>=8 in /home/alkis/miniconda3/lib/python3.12/site-packages (from matplotlib) (11.0.0)\n",
            "Requirement already satisfied: pyparsing>=2.3.1 in /home/alkis/miniconda3/lib/python3.12/site-packages (from matplotlib) (3.2.3)\n",
            "Requirement already satisfied: python-dateutil>=2.7 in /home/alkis/miniconda3/lib/python3.12/site-packages (from matplotlib) (2.9.0.post0)\n",
            "Requirement already satisfied: six>=1.5 in /home/alkis/miniconda3/lib/python3.12/site-packages (from python-dateutil>=2.7->matplotlib) (1.17.0)\n"
          ]
        }
      ],
      "source": [
        "!pip3 install pandas\n",
        "!pip3 install matplotlib"
      ]
    },
    {
      "cell_type": "code",
      "execution_count": null,
      "metadata": {
        "id": "fbF6DffwXaS3"
      },
      "outputs": [],
      "source": [
        "import pandas as pd\n",
        "import numpy as np\n",
        "import matplotlib.pyplot as plt"
      ]
    },
    {
      "cell_type": "markdown",
      "metadata": {
        "id": "wCBYczZ0ZeTz"
      },
      "source": [
        "## **2. Εισαγωγή αρχείου δεδομένων**\n",
        "\n",
        "Διαβάζουμε με τα Pandas το csv από τη διεύθυνση https://raw.githubusercontent.com/thechaudharysab/imdb-data-pandas-visualization/master/data/imdb_1000.csv και το αποθηκεύουμε σε ένα dataframe με όνομα movies_df"
      ]
    },
    {
      "cell_type": "code",
      "execution_count": null,
      "metadata": {
        "id": "xuceEMewZdl7"
      },
      "outputs": [],
      "source": [
        "# Διαβάζουμε το CSV dataset από το GitHub\n",
        "df = pd.read_csv('https://raw.githubusercontent.com/thechaudharysab/imdb-data-pandas-visualization/master/data/imdb_1000.csv')"
      ]
    },
    {
      "cell_type": "markdown",
      "metadata": {
        "id": "76OJr-cwabIa"
      },
      "source": [
        "## **3. Επισκόπηση του dataframe**\n",
        "\n",
        "Πρώτα - πρώτα θέλουμε να δούμε και να κατανοήσουμε τι περιλαμβάνεται στα δεδομένα μας.\n",
        "\n",
        "* ποιες είναι οι 5 πρώτες γραμμές του dataframe; (```head()```)\n",
        "* ποια είναι τα ονόματα των στηλών; (```.columns```)\n",
        "* τι είδους είναι οι μεταβλητές μας; ποιος είναι ο τύπος των δεδομένων κάθε στήλης; (```.dtypes```)\n",
        "* πόσες εγγραφές έχει συνολικά το δείγμα μας; (```.shape```)\n",
        "* ποια είναι τα βασικά στατιστικά στοιχεία του dataframe; (```.describe()```)\n",
        "* ποιες μεταβλητές συσχετίζονται μεταξύ τους και πώς (correlation); (```.corr()``` ανάμεσα σε στήλες με αριθμητικά δεδομένα)\n",
        "\n",
        "Παίρνουμε απαντήσεις για τα παραπάνω ερωτήματα με τη βοήθεια των εργαλείων που μας παρέχουν τα Pandas.\n"
      ]
    },
    {
      "cell_type": "code",
      "execution_count": null,
      "metadata": {
        "id": "dC6u1oxOdBpW",
        "outputId": "6c205c3d-b2c7-4f72-c64c-1a58b6080896"
      },
      "outputs": [
        {
          "name": "stdout",
          "output_type": "stream",
          "text": [
            "Οι πρώτες 5 γραμμές του dataset είναι:\n",
            "   star_rating                     title content_rating   genre  duration  \\\n",
            "0          9.3  The Shawshank Redemption              R   Crime       142   \n",
            "1          9.2             The Godfather              R   Crime       175   \n",
            "2          9.1    The Godfather: Part II              R   Crime       200   \n",
            "3          9.0           The Dark Knight          PG-13  Action       152   \n",
            "4          8.9              Pulp Fiction              R   Crime       154   \n",
            "\n",
            "                                         actors_list  \n",
            "0  [u'Tim Robbins', u'Morgan Freeman', u'Bob Gunt...  \n",
            "1    [u'Marlon Brando', u'Al Pacino', u'James Caan']  \n",
            "2  [u'Al Pacino', u'Robert De Niro', u'Robert Duv...  \n",
            "3  [u'Christian Bale', u'Heath Ledger', u'Aaron E...  \n",
            "4  [u'John Travolta', u'Uma Thurman', u'Samuel L....  \n"
          ]
        }
      ],
      "source": [
        "# 5 πρώτες γραμμές\n",
        "df.head()\n",
        "\n",
        "print(\"Οι πρώτες 5 γραμμές του dataset είναι:\")\n",
        "print(df.head())"
      ]
    },
    {
      "cell_type": "code",
      "execution_count": null,
      "metadata": {
        "id": "gZSd-rwadxRZ",
        "outputId": "2fa5219e-25f0-4b63-f227-bc75a3ac9599"
      },
      "outputs": [
        {
          "name": "stdout",
          "output_type": "stream",
          "text": [
            "Τα ονόματα των στηλών του dataset είναι:\n",
            "Index(['star_rating', 'title', 'content_rating', 'genre', 'duration',\n",
            "       'actors_list'],\n",
            "      dtype='object')\n"
          ]
        }
      ],
      "source": [
        "df.columns\n",
        "\n",
        "# Τα ονόματα των στηλών (columns) του συγκεκριμένου dataset είναι:\n",
        "print(\"Τα ονόματα των στηλών του dataset είναι:\")\n",
        "print(df.columns)"
      ]
    },
    {
      "cell_type": "code",
      "execution_count": null,
      "metadata": {
        "id": "X3O2sFdbd5Ot",
        "outputId": "17da3135-a877-4832-b756-161541fec415"
      },
      "outputs": [
        {
          "name": "stdout",
          "output_type": "stream",
          "text": [
            "Ο τύπος των δεδομένων κάθε στήλης είναι:\n",
            "star_rating       float64\n",
            "title              object\n",
            "content_rating     object\n",
            "genre              object\n",
            "duration            int64\n",
            "actors_list        object\n",
            "dtype: object\n"
          ]
        }
      ],
      "source": [
        "# ΓΙα να εντοπίσουμε το είδος τών μεταβλητών και τον τύπο των δεδομένων κάθε στήλης θα\n",
        "# χρησιμοποιήσουμε την μέθοδο dtypes\n",
        "print(\"Ο τύπος των δεδομένων κάθε στήλης είναι:\")\n",
        "print(df.dtypes)"
      ]
    },
    {
      "cell_type": "code",
      "execution_count": null,
      "metadata": {
        "id": "05438NH0f6t-",
        "outputId": "8fafdb8e-2545-468d-89ac-bff4ae5e3096"
      },
      "outputs": [
        {
          "name": "stdout",
          "output_type": "stream",
          "text": [
            "Ο αριθμός των εγγραφών του dataset είναι:\n",
            "(979, 6)\n"
          ]
        }
      ],
      "source": [
        "# Για να δούμε το πλήθος των εγγραφών του δείγματός μας θα\n",
        "# χρησιμοποιήσουμε την μέθοδο shape\n",
        "print(\"Ο αριθμός των εγγραφών του dataset είναι:\")\n",
        "print(df.shape)"
      ]
    },
    {
      "cell_type": "markdown",
      "metadata": {
        "id": "nm-r1NfYPAXK"
      },
      "source": [
        "Το παραπάνω αντιστοιχεί σε (γραμμές, στήλες)"
      ]
    },
    {
      "cell_type": "code",
      "execution_count": null,
      "metadata": {
        "id": "ez0nxWaGZaQp",
        "outputId": "04d73b0d-5b36-4d4e-bf75-060e4f3b470d"
      },
      "outputs": [
        {
          "name": "stdout",
          "output_type": "stream",
          "text": [
            "Τα βασικά στατιστικά στοιχεία του dataset είναι:\n",
            "       star_rating    duration\n",
            "count   979.000000  979.000000\n",
            "mean      7.889785  120.979571\n",
            "std       0.336069   26.218010\n",
            "min       7.400000   64.000000\n",
            "25%       7.600000  102.000000\n",
            "50%       7.800000  117.000000\n",
            "75%       8.100000  134.000000\n",
            "max       9.300000  242.000000\n",
            "\n"
          ]
        },
        {
          "data": {
            "text/html": [
              "<div>\n",
              "<style scoped>\n",
              "    .dataframe tbody tr th:only-of-type {\n",
              "        vertical-align: middle;\n",
              "    }\n",
              "\n",
              "    .dataframe tbody tr th {\n",
              "        vertical-align: top;\n",
              "    }\n",
              "\n",
              "    .dataframe thead th {\n",
              "        text-align: right;\n",
              "    }\n",
              "</style>\n",
              "<table border=\"1\" class=\"dataframe\">\n",
              "  <thead>\n",
              "    <tr style=\"text-align: right;\">\n",
              "      <th></th>\n",
              "      <th>star_rating</th>\n",
              "      <th>duration</th>\n",
              "    </tr>\n",
              "  </thead>\n",
              "  <tbody>\n",
              "    <tr>\n",
              "      <th>count</th>\n",
              "      <td>979.000000</td>\n",
              "      <td>979.000000</td>\n",
              "    </tr>\n",
              "    <tr>\n",
              "      <th>mean</th>\n",
              "      <td>7.889785</td>\n",
              "      <td>120.979571</td>\n",
              "    </tr>\n",
              "    <tr>\n",
              "      <th>std</th>\n",
              "      <td>0.336069</td>\n",
              "      <td>26.218010</td>\n",
              "    </tr>\n",
              "    <tr>\n",
              "      <th>min</th>\n",
              "      <td>7.400000</td>\n",
              "      <td>64.000000</td>\n",
              "    </tr>\n",
              "    <tr>\n",
              "      <th>25%</th>\n",
              "      <td>7.600000</td>\n",
              "      <td>102.000000</td>\n",
              "    </tr>\n",
              "    <tr>\n",
              "      <th>50%</th>\n",
              "      <td>7.800000</td>\n",
              "      <td>117.000000</td>\n",
              "    </tr>\n",
              "    <tr>\n",
              "      <th>75%</th>\n",
              "      <td>8.100000</td>\n",
              "      <td>134.000000</td>\n",
              "    </tr>\n",
              "    <tr>\n",
              "      <th>max</th>\n",
              "      <td>9.300000</td>\n",
              "      <td>242.000000</td>\n",
              "    </tr>\n",
              "  </tbody>\n",
              "</table>\n",
              "</div>"
            ],
            "text/plain": [
              "       star_rating    duration\n",
              "count   979.000000  979.000000\n",
              "mean      7.889785  120.979571\n",
              "std       0.336069   26.218010\n",
              "min       7.400000   64.000000\n",
              "25%       7.600000  102.000000\n",
              "50%       7.800000  117.000000\n",
              "75%       8.100000  134.000000\n",
              "max       9.300000  242.000000"
            ]
          },
          "metadata": {},
          "output_type": "display_data"
        }
      ],
      "source": [
        "# Για τον εντοπισμό των βασικών στατιστικών στοιχείων του dataframe\n",
        "# θα χρησιμοποιήσουμε την μέθοδο describe\n",
        "print(\"Τα βασικά στατιστικά στοιχεία του dataset είναι:\")\n",
        "print(df.describe())\n",
        "\n",
        "print()\n",
        "\n",
        "display(df.describe())"
      ]
    },
    {
      "cell_type": "code",
      "execution_count": null,
      "metadata": {
        "id": "LjGP2CKCPAXL",
        "outputId": "e4dcbb30-89b4-4e5a-8f87-9cf7866f700f"
      },
      "outputs": [
        {
          "name": "stdout",
          "output_type": "stream",
          "text": [
            "Η συσχέτιση μεταξύ των μεταβλητών είναι:\n",
            "             star_rating  duration\n",
            "star_rating     1.000000  0.227149\n",
            "duration        0.227149  1.000000\n"
          ]
        }
      ],
      "source": [
        "# Για να δούμε ποιες μεταβλητές συσχετίζονται μεταξύ τους θα χρησιμοποιήσουμε την μέθοδο corr\n",
        "print(\"Η συσχέτιση μεταξύ των μεταβλητών είναι:\")\n",
        "print(df.corr(numeric_only=True))"
      ]
    },
    {
      "cell_type": "markdown",
      "metadata": {
        "id": "QwbmkYHuhDuA"
      },
      "source": [
        "###**3.1 Πρώτα ερωτήματα**\n",
        "\n",
        "Ποιες είναι οι μοναδικές τιμές (unique) που παίρνουν οι ονομαστικές μεταβλητές content_rating και genre;"
      ]
    },
    {
      "cell_type": "code",
      "execution_count": null,
      "metadata": {
        "id": "1HMKwDpJh3nq",
        "outputId": "b11c8a2d-ee8b-42b9-de7c-2ad7c0d8a200"
      },
      "outputs": [
        {
          "name": "stdout",
          "output_type": "stream",
          "text": [
            "Οι μοναδικές τιμές της στήλης content_rating είναι:\n",
            "['R' 'PG-13' 'NOT RATED' 'PG' 'UNRATED' 'APPROVED' 'PASSED' 'G' 'X' nan\n",
            " 'TV-MA' 'GP' 'NC-17']\n"
          ]
        },
        {
          "data": {
            "text/plain": [
              "array(['R', 'PG-13', 'NOT RATED', 'PG', 'UNRATED', 'APPROVED', 'PASSED',\n",
              "       'G', 'X', nan, 'TV-MA', 'GP', 'NC-17'], dtype=object)"
            ]
          },
          "metadata": {},
          "output_type": "display_data"
        }
      ],
      "source": [
        "# Μπορούμε να δούμε ποιες είναι οι μοναδικές τιμές (unique) που παίρνουν οι ονομαστικές μεταβλητές content_rating και genre\n",
        "# αξιοποιώντας την μέθοδο unique\n",
        "print(\"Οι μοναδικές τιμές της στήλης content_rating είναι:\")\n",
        "print(df['content_rating'].unique())\n",
        "\n",
        "display(df['content_rating'].unique())"
      ]
    },
    {
      "cell_type": "code",
      "execution_count": null,
      "metadata": {
        "id": "rZGxs1BupvE6",
        "outputId": "5b8358f3-afb0-4f33-aff8-3b27e17c74ea"
      },
      "outputs": [
        {
          "name": "stdout",
          "output_type": "stream",
          "text": [
            "Οι μοναδικές τιμές της στήλης genre είναι:\n",
            "['Crime' 'Action' 'Drama' 'Western' 'Adventure' 'Biography' 'Comedy'\n",
            " 'Animation' 'Mystery' 'Horror' 'Film-Noir' 'Sci-Fi' 'History' 'Thriller'\n",
            " 'Family' 'Fantasy']\n"
          ]
        },
        {
          "data": {
            "text/plain": [
              "array(['Crime', 'Action', 'Drama', 'Western', 'Adventure', 'Biography',\n",
              "       'Comedy', 'Animation', 'Mystery', 'Horror', 'Film-Noir', 'Sci-Fi',\n",
              "       'History', 'Thriller', 'Family', 'Fantasy'], dtype=object)"
            ]
          },
          "metadata": {},
          "output_type": "display_data"
        }
      ],
      "source": [
        "# Αντίστοιχα για την στήλη genre\n",
        "# Αξιοποιούμε την μέθοδο unique\n",
        "print(\"Οι μοναδικές τιμές της στήλης genre είναι:\")\n",
        "print(df['genre'].unique())\n",
        "display(df['genre'].unique())"
      ]
    },
    {
      "cell_type": "markdown",
      "metadata": {
        "id": "s1JAO5kxjUUK"
      },
      "source": [
        "Ποιες είναι η πιο μικρή και η πιο μεγάλη σε διάρκεια ταινία;\n",
        "\n",
        "Tip: εδώ μπορούν να μας βοηθήσουν το sort_values σε συνδυασμό με τα head και tail"
      ]
    },
    {
      "cell_type": "code",
      "execution_count": null,
      "metadata": {
        "id": "yqBCqJ8Kjin6",
        "outputId": "1799311a-a88c-4554-846f-442b6a563ef8"
      },
      "outputs": [
        {
          "data": {
            "text/html": [
              "<div>\n",
              "<style scoped>\n",
              "    .dataframe tbody tr th:only-of-type {\n",
              "        vertical-align: middle;\n",
              "    }\n",
              "\n",
              "    .dataframe tbody tr th {\n",
              "        vertical-align: top;\n",
              "    }\n",
              "\n",
              "    .dataframe thead th {\n",
              "        text-align: right;\n",
              "    }\n",
              "</style>\n",
              "<table border=\"1\" class=\"dataframe\">\n",
              "  <thead>\n",
              "    <tr style=\"text-align: right;\">\n",
              "      <th></th>\n",
              "      <th>star_rating</th>\n",
              "      <th>title</th>\n",
              "      <th>content_rating</th>\n",
              "      <th>genre</th>\n",
              "      <th>duration</th>\n",
              "      <th>actors_list</th>\n",
              "    </tr>\n",
              "  </thead>\n",
              "  <tbody>\n",
              "    <tr>\n",
              "      <th>389</th>\n",
              "      <td>8.0</td>\n",
              "      <td>Freaks</td>\n",
              "      <td>UNRATED</td>\n",
              "      <td>Drama</td>\n",
              "      <td>64</td>\n",
              "      <td>[u'Wallace Ford', u'Leila Hyams', u'Olga Bacla...</td>\n",
              "    </tr>\n",
              "  </tbody>\n",
              "</table>\n",
              "</div>"
            ],
            "text/plain": [
              "     star_rating   title content_rating  genre  duration  \\\n",
              "389          8.0  Freaks        UNRATED  Drama        64   \n",
              "\n",
              "                                           actors_list  \n",
              "389  [u'Wallace Ford', u'Leila Hyams', u'Olga Bacla...  "
            ]
          },
          "execution_count": 12,
          "metadata": {},
          "output_type": "execute_result"
        }
      ],
      "source": [
        "# Βασιζόμενοι στο παραπάνω tip\n",
        "\n",
        "\n",
        "# Η ταινία με την μικρότερη διάρκεια εντοπίστηκε ώς εξής:\n",
        "df.sort_values('duration').head(1)"
      ]
    },
    {
      "cell_type": "markdown",
      "metadata": {
        "id": "I7khT02MPAXM"
      },
      "source": [
        "Παρατηρούμε ότι η ταινία με την συντομότερη διάρκεια είναι η ταινία με τίτλο \"Freaks\" με συνολική διάρκεια 64 λεπτά."
      ]
    },
    {
      "cell_type": "code",
      "execution_count": null,
      "metadata": {
        "id": "y8SBpbbWkLhi",
        "outputId": "9658c7d2-50d5-4779-8b27-adf89cb1e6e6"
      },
      "outputs": [
        {
          "data": {
            "text/html": [
              "<div>\n",
              "<style scoped>\n",
              "    .dataframe tbody tr th:only-of-type {\n",
              "        vertical-align: middle;\n",
              "    }\n",
              "\n",
              "    .dataframe tbody tr th {\n",
              "        vertical-align: top;\n",
              "    }\n",
              "\n",
              "    .dataframe thead th {\n",
              "        text-align: right;\n",
              "    }\n",
              "</style>\n",
              "<table border=\"1\" class=\"dataframe\">\n",
              "  <thead>\n",
              "    <tr style=\"text-align: right;\">\n",
              "      <th></th>\n",
              "      <th>star_rating</th>\n",
              "      <th>title</th>\n",
              "      <th>content_rating</th>\n",
              "      <th>genre</th>\n",
              "      <th>duration</th>\n",
              "      <th>actors_list</th>\n",
              "    </tr>\n",
              "  </thead>\n",
              "  <tbody>\n",
              "    <tr>\n",
              "      <th>476</th>\n",
              "      <td>7.8</td>\n",
              "      <td>Hamlet</td>\n",
              "      <td>PG-13</td>\n",
              "      <td>Drama</td>\n",
              "      <td>242</td>\n",
              "      <td>[u'Kenneth Branagh', u'Julie Christie', u'Dere...</td>\n",
              "    </tr>\n",
              "  </tbody>\n",
              "</table>\n",
              "</div>"
            ],
            "text/plain": [
              "     star_rating   title content_rating  genre  duration  \\\n",
              "476          7.8  Hamlet          PG-13  Drama       242   \n",
              "\n",
              "                                           actors_list  \n",
              "476  [u'Kenneth Branagh', u'Julie Christie', u'Dere...  "
            ]
          },
          "execution_count": 13,
          "metadata": {},
          "output_type": "execute_result"
        }
      ],
      "source": [
        "# Αντίστοιχα\n",
        "\n",
        "# Η ταινία με την μεγαλύτερη διάρκεια εντοπίστηκε ώς εξής:\n",
        "df.sort_values('duration').tail(1)"
      ]
    },
    {
      "cell_type": "markdown",
      "metadata": {
        "id": "xYuSor0UPAXM"
      },
      "source": [
        "Παρατηρούμε ότι η ταινία με την μεγαλύτερη διάρκεια είναι η ταινία με τίτλο \"Hamlet\" με συνολική διάρκεια 242 λεπτά."
      ]
    },
    {
      "cell_type": "markdown",
      "metadata": {
        "id": "5oz0rPw2k6Su"
      },
      "source": [
        "Ποια είναι η μέση διάρκεια όλων των ταινιών με ακρίβεια λεπτού;"
      ]
    },
    {
      "cell_type": "code",
      "execution_count": null,
      "metadata": {
        "id": "CKoivaOdk5g4",
        "outputId": "b514b132-114a-4934-a338-5e61ca3a7675"
      },
      "outputs": [
        {
          "name": "stdout",
          "output_type": "stream",
          "text": [
            "Η μέση διάρκεια των ταινιών είναι:\n",
            "120.97957099080695\n",
            "\n",
            "Η στρογγυλοποιημένη μέση διάρκεια των ταινιών είναι:\n",
            "121.0\n"
          ]
        }
      ],
      "source": [
        "# Σε αυτό το ερώτημα αναζητούμε την μέση διάρκεια των ταινιών με ακρίβεια λεπτού\n",
        "\n",
        "# Θα αξιοποιήσουμε την μέθοδο mean για τον εντοπισμό της μέση τιμής ενός συνόλου\n",
        "\n",
        "# Και στην συνέχεια θα στρογγυλοποιήσουμε την τιμή με την μέθοδο round\n",
        "print(\"Η μέση διάρκεια των ταινιών είναι:\")\n",
        "print(df['duration'].mean())\n",
        "\n",
        "print()\n",
        "# Στρογγυλοποιημένη μέση διάρκεια\n",
        "print(\"Η στρογγυλοποιημένη μέση διάρκεια των ταινιών είναι:\")\n",
        "print(round(df['duration'].mean(), 0))"
      ]
    },
    {
      "cell_type": "markdown",
      "metadata": {
        "id": "J9Ekgc_lPAXN"
      },
      "source": [
        "Παρατηρούμε ότι η μέση διάρκεια των ταινιών είναι 121 λεπτά."
      ]
    },
    {
      "cell_type": "markdown",
      "metadata": {
        "id": "vqqhkzJGlsN6"
      },
      "source": [
        "### **3.2 Οπτικοποίηση των δεδομένων για καλύτερες παρατηρήσεις**\n",
        "\n",
        "Όπως έχουμε ήδη δει, διαφορετικά γραφήματα μας δίνουν διαφορετικές πληροφορίες και το είδος του γραφήματος εξαρτάται και από το είδος της μεταβλητής (nominal, interval, scale)"
      ]
    },
    {
      "cell_type": "markdown",
      "metadata": {
        "id": "k5TlSgUnmQZH"
      },
      "source": [
        "#### **3.2.1 Ιστόγραμμα κατανομής συχνοτήτων (histogram) του duration**\n",
        "\n",
        "A histogram is an approximate representation of the distribution of numerical data. The term was first introduced by Karl Pearson. To construct a histogram, the first step is to \"**bin**\" (or \"bucket\") the range of values—that is, divide the entire range of values into a series of intervals—and then count how many values fall into each interval. The bins are usually specified as consecutive, non-overlapping intervals of a variable. The bins (intervals) must be adjacent and are often (but not required to be) of equal size. [wikipedia](https://en.wikipedia.org/wiki/Histogram)\n",
        "\n",
        "![](https://external-content.duckduckgo.com/iu/?u=https%3A%2F%2Fi0.wp.com%2Finsightextractor.com%2Fwp-content%2Fuploads%2F2016%2F06%2FHistogram.jpg%3Fresize%3D183%252C185%26ssl%3D1&f=1&nofb=1&ipt=8c50694cd4292dbb7f5c1aa9e7d355e7587071bc2d7fe56ef71a1449f4f2df4f&ipo=images)\n",
        "\n",
        "**More sources**:\n",
        "\n",
        "* Περισσότερες **πληροφορίες για τα ιστογράμματα** μπορείτε να βρείτε εδώ: https://chartio.com/learn/charts/histogram-complete-guide/\n",
        "* Περισσότερα για το **πώς να επιλέγετε τα σωστά γραφήματα** μπορείτε να δείτε εδώ: https://chartio.com/learn/charts/how-to-choose-data-visualization/\n",
        "\n",
        "Για να σχεδιάσουμε με την plot() ένα ιστόγραμμα, πρέπει να ορίσουμε στις παραμέτρους της το kind='hist' και να ορίσουμε και αριθμό bins.\n",
        "\n",
        "π.χ.\n",
        "```\n",
        "df['col_name'].plot(kind='hist', bins=20)\n",
        "```\n",
        "Η μέγιστη διάρκεια των ταινιών είναι 242 λεπτά, επομένως αν ορίσουμε bins=10 θα έχουμε τη διάρκεια χωρισμένη σε 25λεπτα. Το ιστόγραμμα θα μας δείξει πόσες ταινίες εμπίπτουν σε κάθε bin."
      ]
    },
    {
      "cell_type": "code",
      "execution_count": null,
      "metadata": {
        "id": "l3chEiKYl_qi",
        "outputId": "4c4110c3-9819-4b88-a728-42d2b231b4f5"
      },
      "outputs": [
        {
          "data": {
            "image/png": "[encoded data removed]",
            "text/plain": [
              "<Figure size 1000x500 with 1 Axes>"
            ]
          },
          "metadata": {},
          "output_type": "display_data"
        }
      ],
      "source": [
        "# δημιουργούμε ένα ιστόγραμμα με τις συχνότητες της διάρκειας των ταινιών, επιλέγοντας έναν αριθμό bins=10\n",
        "\n",
        "# Αρχίζουμε αρχικοποιώντας το σχήμα του γραφήματος\n",
        "plt.figure(figsize=(10, 5))\n",
        "# Στην συνέχεια καλούμε την μέθοδο hist για να δημιουργήσουμε το ιστόγραμμα\n",
        "plt.hist(df['duration'], bins=10, color='green', edgecolor='black')\n",
        "# Στην συνέχεια προσθέτουμε τίτλο και ετικέτες στους άξονες\n",
        "plt.title('Διακύμανση διάρκειας ταινιών')\n",
        "plt.xlabel('Διάρκεια (λεπτά)')\n",
        "plt.ylabel('Συχνότητα')\n",
        "# Τέλος καλούμε την μέθοδο show για να εμφανίσουμε το γράφημα\n",
        "plt.show()"
      ]
    },
    {
      "cell_type": "markdown",
      "metadata": {
        "id": "mlj7VRkouidh"
      },
      "source": [
        "#### **3.2.2 Γράφημα πλαισίου (box plot) για τo duration**\n",
        "\n",
        "Ένα άλλο είδος γραφήματος για συνεχείς μεταβλητές είναι το boxplot.\n",
        "\n",
        "\n",
        "Το boxplot βασίζεται στα τεταρτημόρια (quartiles). Στο describe() τα βλέπουμε με τα 25%, 50% και 75%."
      ]
    },
    {
      "cell_type": "code",
      "execution_count": null,
      "metadata": {
        "id": "8uRsmvhwybTZ",
        "outputId": "dbe5ba05-f2fd-4980-bee9-4e406019384a"
      },
      "outputs": [
        {
          "data": {
            "text/plain": [
              "count    979.000000\n",
              "mean     120.979571\n",
              "std       26.218010\n",
              "min       64.000000\n",
              "25%      102.000000\n",
              "50%      117.000000\n",
              "75%      134.000000\n",
              "max      242.000000\n",
              "Name: duration, dtype: float64"
            ]
          },
          "execution_count": 16,
          "metadata": {},
          "output_type": "execute_result"
        }
      ],
      "source": [
        "# describe τη στήλη 'duration'\n",
        "\n",
        "# Στατιστικά περιγραφικά της στήλης duration\n",
        "df['duration'].describe()"
      ]
    },
    {
      "cell_type": "markdown",
      "metadata": {
        "id": "Kz0e4xXpyZvv"
      },
      "source": [
        "Στο παραπάνω output του describe() για το duration, βλέπουμε ότι το 25% των ταινιών έχει διάρκεια έως 102 λεπτά, το 50% των ταινιών έχει διάρκεια έως 117 λεπτά και το 75% των ταινιών έχει διάρκεια έως 134 λεπτά. Απ' αυτό προκύπτει ότι η διάμεσος (median), είναι στο 50%, δηλαδή αν κατατάξουμε όλες τις διάρκειες σε αύξουσα σειρά, η μεσαία τιμή είναι τα 117 λεπτά.\n",
        "\n",
        "Το boxplot μας δείχνει με ένα κουτί τα δύο μεσαία τεταρτημόρια (δηλαδή μέσα σε ποια όρια βρίσκεται το 50% των τιμών του δείγματος), το ανώτατο και το κατώτατο όριο, καθώς και τις ακραίες τιμές (outliers). Το ανώτατο όριο τίθεται μετά το τρίτο τεταρτημόριο (Q3) και σε απόσταση μιάμιση φορά τη διαφορά του Q3-Q1.\n",
        "\n",
        "![](https://chartio.com/assets/26dba4/tutorials/charts/box-plots/046df50d3e23296f1dda99a385bd54925317c413ffff2a63779ffef0a42b9434/box-plot-construction.png)\n",
        "\n",
        "**Read more**:\n",
        "* Περισσότερα για το boxplot μπορείτε να δείτε εδώ: https://chartio.com/learn/charts/box-plot-complete-guide/\n",
        "\n",
        "Για να σχεδιάσουμε ένα boxplot με την plot() αρκεί να ορίσουμε kind=box."
      ]
    },
    {
      "cell_type": "code",
      "execution_count": null,
      "metadata": {
        "id": "ry2XeMbhvnyA",
        "outputId": "2fe40e4f-993b-42dd-9954-9d4d5d6b71d2"
      },
      "outputs": [
        {
          "data": {
            "image/png": "[encoded data removed]",
            "text/plain": [
              "<Figure size 1000x1000 with 1 Axes>"
            ]
          },
          "metadata": {},
          "output_type": "display_data"
        }
      ],
      "source": [
        "# boxplot γράφημα για το duration\n",
        "# Βασιζόμενοι στον παραπάνω οδηγό\n",
        "# Αρχίζουμε αρχικοποιώντας το σχήμα του γραφήματος\n",
        "plt.figure(figsize=(10, 10))\n",
        "# Στην συνέχεια ορίζουμε το είδος του γραφήματος να είναι boxplot\n",
        "df['duration'].plot(kind='box', color='green')\n",
        "# Στην συνέχεια προσθέτουμε τίτλο και ετικέτες στους άξονες\n",
        "plt.title('Διακύμανση διάρκειας ταινιών')\n",
        "plt.ylabel('Διάρκεια (λεπτά)')\n",
        "# Τέλος καλούμε την μέθοδο show για να εμφανίσουμε το γράφημα\n",
        "plt.show()"
      ]
    },
    {
      "cell_type": "markdown",
      "metadata": {
        "id": "7WOXqU8FPAXP"
      },
      "source": [
        "Παρατηρούμε ότι έτσι το διάγραμμα είναι κατακόρυφο και δεν μας διευκολύνει οπότε θα ορισούμε το διάγραμμα να μην είναι κατακόρυφο"
      ]
    },
    {
      "cell_type": "code",
      "execution_count": null,
      "metadata": {
        "id": "iEieLSqlPAXQ",
        "outputId": "33ac91cf-32af-43ce-a0e4-88b3244a5fba"
      },
      "outputs": [
        {
          "data": {
            "image/png": "[encoded data removed]",
            "text/plain": [
              "<Figure size 1000x1000 with 1 Axes>"
            ]
          },
          "metadata": {},
          "output_type": "display_data"
        }
      ],
      "source": [
        "plt.figure(figsize=(10, 10))\n",
        "df['duration'].plot(kind='box', color='green', vert=False)\n",
        "plt.title('Διακύμανση διάρκειας ταινιών')\n",
        "plt.xlabel('Διάρκεια (λεπτά)')\n",
        "plt.show()"
      ]
    },
    {
      "cell_type": "code",
      "execution_count": null,
      "metadata": {
        "id": "5ESGB2IHPAXQ",
        "outputId": "8732e19a-2703-4e3c-c09b-d49b172791dc"
      },
      "outputs": [
        {
          "data": {
            "image/png": "[encoded data removed]",
            "text/plain": [
              "<Figure size 1000x1000 with 1 Axes>"
            ]
          },
          "metadata": {},
          "output_type": "display_data"
        }
      ],
      "source": [
        "#in the plot above add vertical lines for x = 102, 134, 64, 182, 117 and also add discrete the numbers on the axis\n",
        "\n",
        "plt.figure(figsize=(10, 10))\n",
        "df['duration'].plot(kind='box', color='green', vert=False)\n",
        "plt.axvline(x=102, color='red', linestyle='--')\n",
        "plt.axvline(x=134, color='red', linestyle='--')\n",
        "plt.axvline(x=64, color='red', linestyle='--')\n",
        "plt.axvline(x=182, color='red', linestyle='--')\n",
        "plt.axvline(x=117, color='red', linestyle='--')\n",
        "plt.title('Διακύμανση διάρκειας ταινιών')\n",
        "plt.xlabel('Διάρκεια (λεπτά)')\n",
        "plt.xticks([64, 102, 117, 134, 182], ['64', '102', '117', '134', '182'])\n",
        "plt.show()"
      ]
    },
    {
      "cell_type": "markdown",
      "metadata": {
        "id": "bEf7ftQGPAXQ"
      },
      "source": [
        "Παράλληλα παραθέτουμε και ένα διαγράμμα με τα αναφερώμενα σημεία για να επαληθεύσουμε ότι ταυτίζονται με τα δεδομένα"
      ]
    },
    {
      "cell_type": "markdown",
      "metadata": {
        "id": "sz2SL_HI2kQj"
      },
      "source": [
        "Με το boxplot βλέπουμε ότι:\n",
        "\n",
        "* το 50% των ταινιών του δείγματος έχει διάρκεια από 102 έως 134 λεπτά,\n",
        "* το κάτω άκρο είναι στο min, δηλαδή στα 64 λεπτά,\n",
        "* το άνω άκρο είναι στα 182 λεπτά (Q3 + 1.5\\*(Q3-Q1) = Q3 + 1.5\\*(134-102) = 134 + 1.5\\*32 = 182) και\n",
        "* η διάμεσος είναι στα 117 λεπτά.\n",
        "* Όλες οι ταινίες με διάρκεια μεγαλύτερη από 182 λεπτά (3 ώρες) είναι outliers.\n",
        "\n",
        "Τα **outliers** είναι συχνά ένα ωραίο θέμα έρευνας. Έτσι, από την εξέταση των δεδομένων μας προκύπτουν μερικά ενδιαφέροντα ερωτήματα που θα μπορούσαμε να θέσουμε αργότερα:\n",
        "* Ποιές είναι οι ασυνήθιστα μεγάλης διάρκειας ταινίας μέσα στις 1000 πρώτες του IMDB;\n",
        "* Ποια είναι τα χαρακτηριστικά τους (content_rating, genre, star_rating);"
      ]
    },
    {
      "cell_type": "markdown",
      "metadata": {
        "id": "hxKRqZnZ9jCo"
      },
      "source": [
        "## **4. Συνέχιση της επισκόπησης, ανάλυσης και οπτικοποίησης των δεδομένων**"
      ]
    },
    {
      "cell_type": "markdown",
      "metadata": {
        "id": "tx6NczS9_HI8"
      },
      "source": [
        "### **4.1 Εξέταση του content rating** (ονομαστική μεταβλητή / nominal)\n",
        "\n",
        "Ξαναβλέπουμε τις μοναδικές τιμές (unique) που παίρνει η μεταβλητή content_rating"
      ]
    },
    {
      "cell_type": "code",
      "execution_count": null,
      "metadata": {
        "id": "wSDod90TSNuI",
        "outputId": "597b1e2d-fb97-4c29-dc7c-ab4d5ef43255"
      },
      "outputs": [
        {
          "name": "stdout",
          "output_type": "stream",
          "text": [
            "Οι μοναδικές τιμές της στήλης content_rating είναι:\n",
            "['R' 'PG-13' 'NOT RATED' 'PG' 'UNRATED' 'APPROVED' 'PASSED' 'G' 'X' nan\n",
            " 'TV-MA' 'GP' 'NC-17']\n"
          ]
        },
        {
          "data": {
            "text/plain": [
              "array(['R', 'PG-13', 'NOT RATED', 'PG', 'UNRATED', 'APPROVED', 'PASSED',\n",
              "       'G', 'X', nan, 'TV-MA', 'GP', 'NC-17'], dtype=object)"
            ]
          },
          "metadata": {},
          "output_type": "display_data"
        }
      ],
      "source": [
        "# unique τιμές της στήλης content_rating\n",
        "\n",
        "# Στην συνέχεια θα δούμε ποιες είναι οι μοναδικές τιμές (unique) που παίρνει η στήλη content_rating\n",
        "# αξιοποιώντας την μέθοδο unique\n",
        "print(\"Οι μοναδικές τιμές της στήλης content_rating είναι:\")\n",
        "print(df['content_rating'].unique())\n",
        "display(df['content_rating'].unique())\n"
      ]
    },
    {
      "cell_type": "markdown",
      "metadata": {
        "id": "nLgHDs-KS8LT"
      },
      "source": [
        "#### **nan (κενές τιμές)**\n",
        "\n",
        "Παρατηρούμε ότι στις τιμές υπάρχει και το nan. Το nan σημαίνει ότι η τιμή είναι κενή.\n",
        "\n",
        "Με τη συνάρτηση isnull(), κοιτάμε να δούμε αν υπάρχουν κενές τιμές και σε άλλες στήλες και πόσες είναι σε κάθε στήλη.\n",
        "\n",
        "π.χ.\n",
        "```\n",
        "df.isnull().sum(axis=0)\n",
        "```\n",
        "**εξήγηση του παραπάνω κώδικα**:\n",
        "* η συνάρτηση isnull() ελέγχει αν υπάρχει nan. Επομένως επιστρέφει τιμές True/False για κάθε κελί\n",
        "* με το sum() μετά το isnull() ζητάμε το άθροισμα των τιμών True\n",
        "* με το axis=0 στις παραμέτρους του sum() ορίζουμε ότι η πρόσθεση θα γίνει κατά στήλη (το axis=0 αναφέρεται στις στήλες και το axis=1 στις γραμμές)"
      ]
    },
    {
      "cell_type": "code",
      "execution_count": null,
      "metadata": {
        "id": "EgJv1fDITfAT",
        "outputId": "a69983dc-d95c-4f53-b089-4c096f37588f"
      },
      "outputs": [
        {
          "name": "stdout",
          "output_type": "stream",
          "text": [
            "Ο αριθμός των κενών τιμών σε κάθε στήλη είναι:\n",
            "star_rating       0\n",
            "title             0\n",
            "content_rating    3\n",
            "genre             0\n",
            "duration          0\n",
            "actors_list       0\n",
            "dtype: int64\n"
          ]
        },
        {
          "data": {
            "text/plain": [
              "star_rating       0\n",
              "title             0\n",
              "content_rating    3\n",
              "genre             0\n",
              "duration          0\n",
              "actors_list       0\n",
              "dtype: int64"
            ]
          },
          "metadata": {},
          "output_type": "display_data"
        }
      ],
      "source": [
        "# sum των nan τιμών σε κάθε στήλη\n",
        "# Στην συνέχεια θα εντοπίσουμε τις κενές τιμές (nan) που περιέχονται στο dataset\n",
        "# αξιοποιώντας την μέθοδο isnull\n",
        "print(\"Ο αριθμός των κενών τιμών σε κάθε στήλη είναι:\")\n",
        "print(df.isnull().sum(axis = 0))\n",
        "display(df.isnull().sum(axis = 0))"
      ]
    },
    {
      "cell_type": "markdown",
      "metadata": {
        "id": "5DmL567qPAXV"
      },
      "source": [
        "Παρατηρούμε ότι για την στήλη content_rating έχουμε 3 κενές τιμές"
      ]
    },
    {
      "cell_type": "markdown",
      "metadata": {
        "id": "_wPdNv8gXi7l"
      },
      "source": [
        "**Εντοπισμός των nan**\n",
        "\n",
        "Ψάχνουμε με firtering να δούμε πού βρίσκονται οι κενές τιμές.\n",
        "\n",
        "π.χ.\n",
        "```\n",
        "df[df['col_name'].isnull()]\n",
        "```"
      ]
    },
    {
      "cell_type": "code",
      "execution_count": null,
      "metadata": {
        "id": "JTMvp8bbX459",
        "outputId": "20a0a72f-9f6f-4459-efd9-db8cabfb2ba8"
      },
      "outputs": [
        {
          "name": "stdout",
          "output_type": "stream",
          "text": [
            "Οι ταινίες που έχουν κενές τιμές στην στήλη content_rating είναι:\n",
            "     star_rating                               title content_rating  \\\n",
            "187          8.2  Butch Cassidy and the Sundance Kid            NaN   \n",
            "649          7.7                   Where Eagles Dare            NaN   \n",
            "936          7.4                           True Grit            NaN   \n",
            "\n",
            "         genre  duration                                        actors_list  \n",
            "187  Biography       110  [u'Paul Newman', u'Robert Redford', u'Katharin...  \n",
            "649     Action       158  [u'Richard Burton', u'Clint Eastwood', u'Mary ...  \n",
            "936  Adventure       128    [u'John Wayne', u'Kim Darby', u'Glen Campbell']  \n"
          ]
        },
        {
          "data": {
            "text/html": [
              "<div>\n",
              "<style scoped>\n",
              "    .dataframe tbody tr th:only-of-type {\n",
              "        vertical-align: middle;\n",
              "    }\n",
              "\n",
              "    .dataframe tbody tr th {\n",
              "        vertical-align: top;\n",
              "    }\n",
              "\n",
              "    .dataframe thead th {\n",
              "        text-align: right;\n",
              "    }\n",
              "</style>\n",
              "<table border=\"1\" class=\"dataframe\">\n",
              "  <thead>\n",
              "    <tr style=\"text-align: right;\">\n",
              "      <th></th>\n",
              "      <th>star_rating</th>\n",
              "      <th>title</th>\n",
              "      <th>content_rating</th>\n",
              "      <th>genre</th>\n",
              "      <th>duration</th>\n",
              "      <th>actors_list</th>\n",
              "    </tr>\n",
              "  </thead>\n",
              "  <tbody>\n",
              "    <tr>\n",
              "      <th>187</th>\n",
              "      <td>8.2</td>\n",
              "      <td>Butch Cassidy and the Sundance Kid</td>\n",
              "      <td>NaN</td>\n",
              "      <td>Biography</td>\n",
              "      <td>110</td>\n",
              "      <td>[u'Paul Newman', u'Robert Redford', u'Katharin...</td>\n",
              "    </tr>\n",
              "    <tr>\n",
              "      <th>649</th>\n",
              "      <td>7.7</td>\n",
              "      <td>Where Eagles Dare</td>\n",
              "      <td>NaN</td>\n",
              "      <td>Action</td>\n",
              "      <td>158</td>\n",
              "      <td>[u'Richard Burton', u'Clint Eastwood', u'Mary ...</td>\n",
              "    </tr>\n",
              "    <tr>\n",
              "      <th>936</th>\n",
              "      <td>7.4</td>\n",
              "      <td>True Grit</td>\n",
              "      <td>NaN</td>\n",
              "      <td>Adventure</td>\n",
              "      <td>128</td>\n",
              "      <td>[u'John Wayne', u'Kim Darby', u'Glen Campbell']</td>\n",
              "    </tr>\n",
              "  </tbody>\n",
              "</table>\n",
              "</div>"
            ],
            "text/plain": [
              "     star_rating                               title content_rating  \\\n",
              "187          8.2  Butch Cassidy and the Sundance Kid            NaN   \n",
              "649          7.7                   Where Eagles Dare            NaN   \n",
              "936          7.4                           True Grit            NaN   \n",
              "\n",
              "         genre  duration                                        actors_list  \n",
              "187  Biography       110  [u'Paul Newman', u'Robert Redford', u'Katharin...  \n",
              "649     Action       158  [u'Richard Burton', u'Clint Eastwood', u'Mary ...  \n",
              "936  Adventure       128    [u'John Wayne', u'Kim Darby', u'Glen Campbell']  "
            ]
          },
          "metadata": {},
          "output_type": "display_data"
        }
      ],
      "source": [
        "# filter dataframe to find rows with nan value in 'content_rating' column\n",
        "# Τώρα, για να εντοπίσουμε ακριβών που βρίσκονται αυτές οι τρεις κενές τιμές\n",
        "# θα χρησιμοποιήσουμε την μέθοδο df[df['content_rating'].isnull()]\n",
        "print(\"Οι ταινίες που έχουν κενές τιμές στην στήλη content_rating είναι:\")\n",
        "print(df[df['content_rating'].isnull()])\n",
        "display(df[df['content_rating'].isnull()])"
      ]
    },
    {
      "cell_type": "markdown",
      "metadata": {
        "id": "zhYxjo2kPAXV"
      },
      "source": [
        "Επαληθεύουμε ότι υπάρχουν μόνο 3 κενές τιμές και συγκεκριμένα έχουμε:\n",
        "\n",
        "Στην θέση 187, την ταινία με τίτλο \"Butch Cassidy and the Sundance Kid\"\n",
        "Στην θέση 649, την ταινία με τίτλο \"Where Eagles Dare\"\n",
        "Στην θέση 936, την ταινία με τίτλο \"True Grit\""
      ]
    },
    {
      "cell_type": "markdown",
      "metadata": {
        "id": "tJGDfDDDYtVl"
      },
      "source": [
        "Αν έχουμε τη δυνατότητα να βρούμε τις τιμές που λείπουν, πηγαίνουμε στις πηγές. Στη συγκεκριμένη περίπτωση, πάμε στο IMDB και βρίσκουμε το content_rating για τις συγκεκριμένες ταινίες.\n",
        "\n",
        "Στη συνέχεια, εισάγουμε τις τιμές που βρήκαμε στο dataframe στα αντίστοιχα κελιά. Η επιλογή (selection) των κελιών γίνεται με τo loc.\n",
        "\n",
        "π.χ.\n",
        "\n",
        "```\n",
        "df.loc[[index_num1, index_num2],'col_name'] = 'value'\n",
        "df.loc[one_index_number,'col_name'] = 'value'\n",
        "```\n"
      ]
    },
    {
      "cell_type": "code",
      "execution_count": null,
      "metadata": {
        "id": "wYdYzBFNX_6d",
        "outputId": "3f0b068c-3fb3-4b74-8b08-71f226769ebd"
      },
      "outputs": [
        {
          "name": "stdout",
          "output_type": "stream",
          "text": [
            "Ο αριθμός των κενών τιμών σε κάθε στήλη είναι:\n",
            "star_rating       0\n",
            "title             0\n",
            "content_rating    0\n",
            "genre             0\n",
            "duration          0\n",
            "actors_list       0\n",
            "dtype: int64\n"
          ]
        },
        {
          "data": {
            "text/plain": [
              "star_rating       0\n",
              "title             0\n",
              "content_rating    0\n",
              "genre             0\n",
              "duration          0\n",
              "actors_list       0\n",
              "dtype: int64"
            ]
          },
          "metadata": {},
          "output_type": "display_data"
        }
      ],
      "source": [
        "# assign content_rating values to cells with nan\n",
        "# content rating ταινίας 187 = \"PG\"\n",
        "# content rating ταινίας 649 = \"PG\"\n",
        "# content rating ταινίας 936 = \"15\" or \"PG-13\"\n",
        "\n",
        "# Στην συνέχεια θα δώσουμε τιμές στις κενές τιμές της στήλης content_rating\n",
        "# σύμφωνα με τις παραπάνω πληροφορίες που λάβαμε από το IMDB\n",
        "\n",
        "df.loc[187, 'content_rating'] = 'PG'\n",
        "df.loc[649, 'content_rating'] = 'PG'\n",
        "df.loc[936, 'content_rating'] = 'PG-13'\n",
        "\n",
        "# Στην συνέχεια θα ελέγξουμε αν οι κενές τιμές της στήλης content_rating\n",
        "# έχουν συμπληρωθεί με τις παραπάνω τιμές\n",
        "print(\"Ο αριθμός των κενών τιμών σε κάθε στήλη είναι:\")\n",
        "print(df.isnull().sum(axis = 0))\n",
        "display(df.isnull().sum(axis = 0))\n",
        "\n",
        "\n"
      ]
    },
    {
      "cell_type": "code",
      "execution_count": null,
      "metadata": {
        "id": "xUeLoRk4aPay",
        "outputId": "2ff482c9-5572-481e-830d-27b2478972db"
      },
      "outputs": [
        {
          "data": {
            "text/plain": [
              "array(['R', 'PG-13', 'NOT RATED', 'PG', 'UNRATED', 'APPROVED', 'PASSED',\n",
              "       'G', 'X', 'TV-MA', 'GP', 'NC-17'], dtype=object)"
            ]
          },
          "execution_count": 24,
          "metadata": {},
          "output_type": "execute_result"
        }
      ],
      "source": [
        "# ελέγχουμε την υλοποίηση των αλλαγών\n",
        "# e.g. df.loc[[index_num1, index_num2, ...], 'col_name']\n",
        "\n",
        "# Έλεγχος αλλαγών\n",
        "df['content_rating'].unique()"
      ]
    },
    {
      "cell_type": "markdown",
      "metadata": {
        "id": "mnBufGcHSW48"
      },
      "source": [
        "**Μείωση των κατηγοριών για ακατάλληλο περιεχόμενο (adult content)**\n",
        "\n",
        "Από τις μοναδικές τιμές της στήλης content_rating, παρατηρούμε ότι στις τιμές υπάρχουν τα NC-17, X και TV-MA. Και οι 3 αυτοί χαρακτηρισμοί αφορούν περιεχόμενο κατάλληλο μόνο για ενήλικες άνω των 17.\n",
        "\n",
        "Επομένως, μπορούμε με replace να αντικαταστήσουμε τα Χ και TV-MA με το ΝC-17, και να έχουμε για όλες τις ταινίες ενηλίκων τη σήμανση NC-17.\n",
        "\n",
        "**Note**: για να εγγραφεί η αλλαγή στο dataframe πρέπει να την αποθηκεύσουμε, δηλαδή να ορίσουμε ότι η στήλη content_rating θα είναι η στήλη content_rating **με** την αλλαγή.\n",
        "\n",
        "π.χ.\n",
        "```\n",
        "df['col_name'] = df['col_name'].replace(['old_val1','old_val2'], 'new_value')\n",
        "```\n"
      ]
    },
    {
      "cell_type": "code",
      "execution_count": null,
      "metadata": {
        "id": "sdjRuKjhdoze"
      },
      "outputs": [],
      "source": [
        "# replace 'X' and 'TV-MA' with 'NC-17'\n",
        "df['content_rating'] = df['content_rating'].replace({'X': 'NC-17', 'TV-MA': 'NC-17'})"
      ]
    },
    {
      "cell_type": "code",
      "execution_count": null,
      "metadata": {
        "id": "0xLiUtZkebH3",
        "outputId": "ea94080f-e7f6-4497-f48e-a1d93aeb80fe"
      },
      "outputs": [
        {
          "data": {
            "text/plain": [
              "array(['R', 'PG-13', 'NOT RATED', 'PG', 'UNRATED', 'APPROVED', 'PASSED',\n",
              "       'G', 'NC-17', 'GP'], dtype=object)"
            ]
          },
          "execution_count": 26,
          "metadata": {},
          "output_type": "execute_result"
        }
      ],
      "source": [
        "# ελέγχουμε την υλοποίηση των αλλαγών (θα πρέπει στα unique του content rating να μην υπάρχουν πλέον τα X και TV-MA)\n",
        "\n",
        "df['content_rating'].unique()"
      ]
    },
    {
      "cell_type": "markdown",
      "metadata": {
        "id": "1RE3-7bXR3l4"
      },
      "source": [
        "#### **Καταμέτρηση του πλήθους των ταινιών σε κάθε κατηγορία περιεχομένου**\n",
        "\n",
        "Όπως έχουμε δει, μπορούμε να κάνουμε ομαδοποίηση των τιμών και να βρούμε τις συχνότητές τους (count).\n",
        "\n",
        "Αυτό θα κάνουμε κι εδώ για το content rating: ομαδοποίηση (groupby με as_index=False) ως προς το content_rating, καταμέτρηση (count) των τίτλων των ταινιών σε κάθε ομάδα και ταξινόμηση του αποτελέσματος σε φθίνουσα σειρά."
      ]
    },
    {
      "cell_type": "code",
      "execution_count": null,
      "metadata": {
        "id": "q0bgkS-Gul_f",
        "outputId": "80decd86-cb8b-44a8-f74c-9af4c7a0ba43"
      },
      "outputs": [
        {
          "name": "stdout",
          "output_type": "stream",
          "text": [
            "Complete number of movies in all categories:\n",
            "979\n",
            "Number of movies in each category:\n",
            "content_rating\n",
            "R            460\n",
            "PG-13        190\n",
            "PG           125\n",
            "NOT RATED     65\n",
            "APPROVED      47\n",
            "UNRATED       38\n",
            "G             32\n",
            "NC-17         12\n",
            "PASSED         7\n",
            "GP             3\n",
            "Name: count, dtype: int64\n"
          ]
        },
        {
          "data": {
            "text/plain": [
              "content_rating\n",
              "R            460\n",
              "PG-13        190\n",
              "PG           125\n",
              "NOT RATED     65\n",
              "APPROVED      47\n",
              "UNRATED       38\n",
              "G             32\n",
              "NC-17         12\n",
              "PASSED         7\n",
              "GP             3\n",
              "Name: count, dtype: int64"
            ]
          },
          "metadata": {},
          "output_type": "display_data"
        }
      ],
      "source": [
        "# Πλήθος ταινιών σε κάθε κατηγορία περιεχομένου\n",
        "rating_counts = df['content_rating'].value_counts()\n",
        "rating_counts\n",
        "\n",
        "print(\"Complete number of movies in all categories:\")\n",
        "print(df['content_rating'].shape[0])\n",
        "print(\"Number of movies in each category:\")\n",
        "print(rating_counts)\n",
        "display(rating_counts)"
      ]
    },
    {
      "cell_type": "markdown",
      "metadata": {
        "id": "jzGWhEJIH0_7"
      },
      "source": [
        "**Γραφήματα**\n",
        "\n",
        "Οπτικοποιούμε την ομαδοποίηση με ένα bar chart.\n",
        "\n",
        "Για να ομορφύνει το γράφημα μπορούμε να προσθέσουμε έναν τίτλο καθώς και τίτλους στους άξονες x και y:\n",
        "* Για τον τίτλο του γραφήματος προσθέτουμε μέσα στην παρένθεση του plot: title='Content Rating Visualization'\n",
        "* Για τα labels στους άξονες x και y προσθέτουμε κάτω από την εντολή του plot στο ίδιο code cell:\n",
        "```\n",
        "plt.xlabel('Content Rating')\n",
        "plt.ylabel('Title Count')\n",
        "```"
      ]
    },
    {
      "cell_type": "code",
      "execution_count": null,
      "metadata": {
        "id": "xklPt4nZHhMU",
        "outputId": "d072699f-29c9-47c2-8726-040a7358880c"
      },
      "outputs": [
        {
          "data": {
            "image/png": "[encoded data removed]",
            "text/plain": [
              "<Figure size 2000x1000 with 1 Axes>"
            ]
          },
          "metadata": {},
          "output_type": "display_data"
        }
      ],
      "source": [
        "# create bar chart\n",
        "# Αρχίζουμε αρχικοποιώντας το σχήμα του γραφήματος\n",
        "plt.figure(figsize=(20, 10))\n",
        "# Στην συνέχεια καλούμε την μέθοδο bar για να δημιουργήσουμε το γράφημα\n",
        "plt.bar(rating_counts.index, rating_counts.values, color='green', edgecolor='black')\n",
        "# Στην συνέχεια προσθέτουμε τίτλο και ετικέτες στους άξονες\n",
        "plt.title('Πλήθος ταινιών σε κάθε κατηγορία περιεχομένου')\n",
        "plt.xlabel('Κατηγορία περιεχομένου')\n",
        "plt.ylabel('Πλήθος ταινιών')\n",
        "# Τέλος καλούμε την μέθοδο show για να εμφανίσουμε το γράφημα\n",
        "plt.show()"
      ]
    },
    {
      "cell_type": "markdown",
      "metadata": {
        "id": "DTcF81wz8MgP"
      },
      "source": [
        "Βλέπουμε το γράφημα και εξετάζουμε αν είναι ακόμα καλύτερο με οριζόντιο barchart. Το ξαναφτιάχνουμε από κάτω για να τα συγκρίνουμε.\n",
        "\n",
        "**Note**: Προσέχουμε αν είναι σωστή η ταξινόμηση (τα περισσότερα counts να είναι στην κορυφή) και τα labels των αξόνων x και y"
      ]
    },
    {
      "cell_type": "code",
      "execution_count": null,
      "metadata": {
        "id": "ov4KQJVcspV6",
        "outputId": "bc0a615b-cc4f-41f4-c1e2-521bc6e51162"
      },
      "outputs": [
        {
          "data": {
            "image/png": "[encoded data removed]",
            "text/plain": [
              "<Figure size 1000x500 with 1 Axes>"
            ]
          },
          "metadata": {},
          "output_type": "display_data"
        }
      ],
      "source": [
        "# create horizontal bar chart\n",
        "# Αρχίζουμε αρχικοποιώντας το σχήμα του γραφήματος\n",
        "plt.figure(figsize=(10, 5))\n",
        "# Στην συνέχεια καλούμε την μέθοδο bar για να δημιουργήσουμε το γράφημα\n",
        "plt.barh(rating_counts.index, rating_counts.values, color='green', edgecolor='black')\n",
        "# Στην συνέχεια προσθέτουμε τίτλο και ετικέτες στους άξονες\n",
        "plt.title('Πλήθος ταινιών σε κάθε κατηγορία περιεχομένου')\n",
        "plt.xlabel('Πλήθος ταινιών')\n",
        "plt.ylabel('Κατηγορία περιεχομένου')\n",
        "# Τέλος καλούμε την μέθοδο show για να εμφανίσουμε το γράφημα\n",
        "plt.show()"
      ]
    },
    {
      "cell_type": "markdown",
      "metadata": {
        "id": "z69N9uBgPKxm"
      },
      "source": [
        "### **4.2 Εξέταση με συγκρίσεις**\n",
        "\n",
        "#### **Υπάρχει συσχέτιση της βαθμολογίας των ταινιών (star_rating) με τη διάρκεια των ταινιών (duration);**\n",
        "\n",
        "Βλέπουμε τα στατιστικά στοιχεία για τη διάρκεια των ταινιών (duration) ανά βαθμολογία (star_rating) με ένα boxplot.\n",
        "\n",
        "π.χ.\n",
        "```\n",
        "df.plot[kind='', column='', by='')\n",
        "```"
      ]
    },
    {
      "cell_type": "code",
      "execution_count": null,
      "metadata": {
        "id": "1ZFEguzJjTGF",
        "outputId": "36f7700e-902b-456c-8fdf-d2d6c8a1a3ce"
      },
      "outputs": [
        {
          "data": {
            "text/plain": [
              "<Figure size 1000x1000 with 0 Axes>"
            ]
          },
          "metadata": {},
          "output_type": "display_data"
        },
        {
          "data": {
            "image/png": "[encoded data removed]",
            "text/plain": [
              "<Figure size 640x480 with 1 Axes>"
            ]
          },
          "metadata": {},
          "output_type": "display_data"
        }
      ],
      "source": [
        "# Σχεδιασμός γραφήματος με την μέθοδο boxplot\n",
        "# Αρχίζουμε αρχικοποιώντας το σχήμα του γραφήματος\n",
        "plt.figure(figsize=(10, 10))\n",
        "# Στην συνέχεια ορίζουμε το είδος του γραφήματος να είναι boxplot\n",
        "df.plot(kind='box', color='green', vert=False, column = 'duration', by = 'star_rating')\n",
        "# Στην συνέχεια προσθέτουμε τίτλο και ετικέτες στους άξονες\n",
        "plt.title('Διακύμανση διάρκειας ταινιών')\n",
        "plt.xlabel('Διάρκεια (λεπτά)')\n",
        "plt.ylabel('Αξιολόγηση ταινίας')\n",
        "# Τέλος καλούμε την μέθοδο show για να εμφανίσουμε το γράφημα\n",
        "plt.show()"
      ]
    },
    {
      "cell_type": "markdown",
      "metadata": {
        "id": "Fw6I55uclsMo"
      },
      "source": [
        "Παρατηρώντας το γράφημα βλέπουμε ότι:\n",
        "* ταινίες με βαθμολογία 8.9 έχουν μεγαλύτερη διάρκεια\n",
        "* καμία ταινία με διάρκεια μεγαλύτερη από 215 λεπτά δεν έχει βαθμολογία πάνω από 8.4\n",
        "* υπάρχει μόνο μία ταινία για κάθε βαθμολογία από 9 και πάνω (συνολικά 4 ταινίες)\n",
        "\n",
        "Βρίσκουμε τα ακριβή στατιστικά στοιχεία για τις ταινίες με βαθμολογία 8.9, με conditional filtering (η τιμή της στήλης star_rating να είναι ίση με 8.9) και describe().\n",
        "\n",
        "π.χ.\n",
        "```\n",
        "df[df['col_name'] == value].describe()\n",
        "```\n"
      ]
    },
    {
      "cell_type": "code",
      "execution_count": null,
      "metadata": {
        "id": "LalDS-bnmVnA",
        "outputId": "9802937d-3bcc-47cd-e785-247c7d44e450"
      },
      "outputs": [
        {
          "data": {
            "text/plain": [
              "count    979.000000\n",
              "mean       7.889785\n",
              "std        0.336069\n",
              "min        7.400000\n",
              "25%        7.600000\n",
              "50%        7.800000\n",
              "75%        8.100000\n",
              "max        9.300000\n",
              "Name: star_rating, dtype: float64"
            ]
          },
          "execution_count": 31,
          "metadata": {},
          "output_type": "execute_result"
        }
      ],
      "source": [
        "# stats for star_rating\n",
        "# Στατιστικά περιγραφικά της στήλης star_rating\n",
        "df['star_rating'].describe()"
      ]
    },
    {
      "cell_type": "markdown",
      "metadata": {
        "id": "LpPetkX6sEGZ"
      },
      "source": [
        "Επίσης με filtering, βρίσκουμε και ποιες είναι αυτές οι ταινίες (με star_rating ίσο με 8.9)."
      ]
    },
    {
      "cell_type": "code",
      "execution_count": null,
      "metadata": {
        "id": "7FGDdLfUph1G",
        "outputId": "f95f571f-62c4-43d7-f3a1-462f1de70e30"
      },
      "outputs": [
        {
          "name": "stdout",
          "output_type": "stream",
          "text": [
            "Ο αριθμός των ταινιών με βαθμολογία 8.9 είναι:\n",
            "6\n"
          ]
        },
        {
          "data": {
            "text/html": [
              "<div>\n",
              "<style scoped>\n",
              "    .dataframe tbody tr th:only-of-type {\n",
              "        vertical-align: middle;\n",
              "    }\n",
              "\n",
              "    .dataframe tbody tr th {\n",
              "        vertical-align: top;\n",
              "    }\n",
              "\n",
              "    .dataframe thead th {\n",
              "        text-align: right;\n",
              "    }\n",
              "</style>\n",
              "<table border=\"1\" class=\"dataframe\">\n",
              "  <thead>\n",
              "    <tr style=\"text-align: right;\">\n",
              "      <th></th>\n",
              "      <th>star_rating</th>\n",
              "      <th>title</th>\n",
              "      <th>content_rating</th>\n",
              "      <th>genre</th>\n",
              "      <th>duration</th>\n",
              "      <th>actors_list</th>\n",
              "    </tr>\n",
              "  </thead>\n",
              "  <tbody>\n",
              "    <tr>\n",
              "      <th>4</th>\n",
              "      <td>8.9</td>\n",
              "      <td>Pulp Fiction</td>\n",
              "      <td>R</td>\n",
              "      <td>Crime</td>\n",
              "      <td>154</td>\n",
              "      <td>[u'John Travolta', u'Uma Thurman', u'Samuel L....</td>\n",
              "    </tr>\n",
              "    <tr>\n",
              "      <th>5</th>\n",
              "      <td>8.9</td>\n",
              "      <td>12 Angry Men</td>\n",
              "      <td>NOT RATED</td>\n",
              "      <td>Drama</td>\n",
              "      <td>96</td>\n",
              "      <td>[u'Henry Fonda', u'Lee J. Cobb', u'Martin Bals...</td>\n",
              "    </tr>\n",
              "    <tr>\n",
              "      <th>6</th>\n",
              "      <td>8.9</td>\n",
              "      <td>The Good, the Bad and the Ugly</td>\n",
              "      <td>NOT RATED</td>\n",
              "      <td>Western</td>\n",
              "      <td>161</td>\n",
              "      <td>[u'Clint Eastwood', u'Eli Wallach', u'Lee Van ...</td>\n",
              "    </tr>\n",
              "    <tr>\n",
              "      <th>7</th>\n",
              "      <td>8.9</td>\n",
              "      <td>The Lord of the Rings: The Return of the King</td>\n",
              "      <td>PG-13</td>\n",
              "      <td>Adventure</td>\n",
              "      <td>201</td>\n",
              "      <td>[u'Elijah Wood', u'Viggo Mortensen', u'Ian McK...</td>\n",
              "    </tr>\n",
              "    <tr>\n",
              "      <th>8</th>\n",
              "      <td>8.9</td>\n",
              "      <td>Schindler's List</td>\n",
              "      <td>R</td>\n",
              "      <td>Biography</td>\n",
              "      <td>195</td>\n",
              "      <td>[u'Liam Neeson', u'Ralph Fiennes', u'Ben Kings...</td>\n",
              "    </tr>\n",
              "    <tr>\n",
              "      <th>9</th>\n",
              "      <td>8.9</td>\n",
              "      <td>Fight Club</td>\n",
              "      <td>R</td>\n",
              "      <td>Drama</td>\n",
              "      <td>139</td>\n",
              "      <td>[u'Brad Pitt', u'Edward Norton', u'Helena Bonh...</td>\n",
              "    </tr>\n",
              "  </tbody>\n",
              "</table>\n",
              "</div>"
            ],
            "text/plain": [
              "   star_rating                                          title content_rating  \\\n",
              "4          8.9                                   Pulp Fiction              R   \n",
              "5          8.9                                   12 Angry Men      NOT RATED   \n",
              "6          8.9                 The Good, the Bad and the Ugly      NOT RATED   \n",
              "7          8.9  The Lord of the Rings: The Return of the King          PG-13   \n",
              "8          8.9                               Schindler's List              R   \n",
              "9          8.9                                     Fight Club              R   \n",
              "\n",
              "       genre  duration                                        actors_list  \n",
              "4      Crime       154  [u'John Travolta', u'Uma Thurman', u'Samuel L....  \n",
              "5      Drama        96  [u'Henry Fonda', u'Lee J. Cobb', u'Martin Bals...  \n",
              "6    Western       161  [u'Clint Eastwood', u'Eli Wallach', u'Lee Van ...  \n",
              "7  Adventure       201  [u'Elijah Wood', u'Viggo Mortensen', u'Ian McK...  \n",
              "8  Biography       195  [u'Liam Neeson', u'Ralph Fiennes', u'Ben Kings...  \n",
              "9      Drama       139  [u'Brad Pitt', u'Edward Norton', u'Helena Bonh...  "
            ]
          },
          "execution_count": 32,
          "metadata": {},
          "output_type": "execute_result"
        }
      ],
      "source": [
        "# Ταινίες με βαθμολογία 8.9\n",
        "\n",
        "#το πλήθος των ταινιών με βαθμολογία 8.9\n",
        "print(\"Ο αριθμός των ταινιών με βαθμολογία 8.9 είναι:\")\n",
        "print(df[df['star_rating'] == 8.9].shape[0])\n",
        "\n",
        "df[df['star_rating'] == 8.9]"
      ]
    },
    {
      "cell_type": "markdown",
      "metadata": {
        "id": "4SoQJ4WU6mci"
      },
      "source": [
        "### **4.3 Καλύτερη ταινία ανά είδος**\n",
        "\n",
        "Μπορούμε να βρούμε την ταινία με την ψηλότερη βαθμολογία (star_rating) σε κάθε είδος (genre) με τη χρήση των sort_values, groupby και το keyword first():\n",
        "\n",
        "π.χ.\n",
        "\n",
        "```\n",
        "df.sort_values('col_name_for_sorting', ascending=False).groupby('col_name_for_grouping', as_index=False)[['title','star_rating']].first()\n",
        "```\n",
        "\n",
        "**Εξήγηση του παραπάνω κώδικα**:\n",
        "\n",
        "* df.sort_values('col_name_for_sorting', ascending=False): ταξινομούμε το dataframe σε φθίνουσα σειρά ως προς την επιθυμητή στήλη\n",
        "* groupby('col_name_for_grouping', as_index=False): ομαδοποιούμε τα δεδομένα στη βάση των τιμών της επιθυμητής στήλης - με το index=False ζητάμε να μη γίνουν index του dataframe που θα προκύψει τα ονόματα των ομάδων που θα φτιάξει το groupby\n",
        "* [['title','star_rating']]: oρίζουμε τις στήλες που θα έχει το dataframe που θα προκύψει\n",
        "* first(): ζητάμε την πρώτη εγγραφή σε κάθε ομάδα (στη βάση της φθίνουσας σειράς που έφτιαξε το sort_values) [*με το last() θα παίρναμε την τελευταία εγγραφή*]"
      ]
    },
    {
      "cell_type": "code",
      "execution_count": null,
      "metadata": {
        "id": "1DqxEziH68XL",
        "outputId": "ae3b3ac4-0cc9-47ee-b90d-0e6cc8857903"
      },
      "outputs": [
        {
          "name": "stdout",
          "output_type": "stream",
          "text": [
            "Η ταινία με την καλύτερη βαθμολογία σε κάθε κατηγορία είναι:\n",
            "        genre                                            title  star_rating\n",
            "0      Action  Master and Commander: The Far Side of the World          7.4\n",
            "1   Adventure                      Back to the Future Part III          7.4\n",
            "2   Animation                              Alice in Wonderland          7.4\n",
            "3   Biography                                  Man on the Moon          7.4\n",
            "4      Comedy                                          Tootsie          7.4\n",
            "5       Crime                                      Wall Street          7.4\n",
            "6       Drama                            The Cider House Rules          7.4\n",
            "7      Family              Willy Wonka & the Chocolate Factory          7.8\n",
            "8     Fantasy                        The City of Lost Children          7.7\n",
            "9   Film-Noir                                       Spellbound          7.7\n",
            "10    History                              Battleship Potemkin          8.0\n",
            "11     Horror                                      Poltergeist          7.4\n",
            "12    Mystery                                        Limitless          7.4\n",
            "13     Sci-Fi                             The Butterfly Effect          7.7\n",
            "14   Thriller                                           Frenzy          7.5\n",
            "15    Western                              High Plains Drifter          7.6\n"
          ]
        },
        {
          "data": {
            "text/html": [
              "<div>\n",
              "<style scoped>\n",
              "    .dataframe tbody tr th:only-of-type {\n",
              "        vertical-align: middle;\n",
              "    }\n",
              "\n",
              "    .dataframe tbody tr th {\n",
              "        vertical-align: top;\n",
              "    }\n",
              "\n",
              "    .dataframe thead th {\n",
              "        text-align: right;\n",
              "    }\n",
              "</style>\n",
              "<table border=\"1\" class=\"dataframe\">\n",
              "  <thead>\n",
              "    <tr style=\"text-align: right;\">\n",
              "      <th></th>\n",
              "      <th>genre</th>\n",
              "      <th>title</th>\n",
              "      <th>star_rating</th>\n",
              "    </tr>\n",
              "  </thead>\n",
              "  <tbody>\n",
              "    <tr>\n",
              "      <th>0</th>\n",
              "      <td>Action</td>\n",
              "      <td>Master and Commander: The Far Side of the World</td>\n",
              "      <td>7.4</td>\n",
              "    </tr>\n",
              "    <tr>\n",
              "      <th>1</th>\n",
              "      <td>Adventure</td>\n",
              "      <td>Back to the Future Part III</td>\n",
              "      <td>7.4</td>\n",
              "    </tr>\n",
              "    <tr>\n",
              "      <th>2</th>\n",
              "      <td>Animation</td>\n",
              "      <td>Alice in Wonderland</td>\n",
              "      <td>7.4</td>\n",
              "    </tr>\n",
              "    <tr>\n",
              "      <th>3</th>\n",
              "      <td>Biography</td>\n",
              "      <td>Man on the Moon</td>\n",
              "      <td>7.4</td>\n",
              "    </tr>\n",
              "    <tr>\n",
              "      <th>4</th>\n",
              "      <td>Comedy</td>\n",
              "      <td>Tootsie</td>\n",
              "      <td>7.4</td>\n",
              "    </tr>\n",
              "    <tr>\n",
              "      <th>5</th>\n",
              "      <td>Crime</td>\n",
              "      <td>Wall Street</td>\n",
              "      <td>7.4</td>\n",
              "    </tr>\n",
              "    <tr>\n",
              "      <th>6</th>\n",
              "      <td>Drama</td>\n",
              "      <td>The Cider House Rules</td>\n",
              "      <td>7.4</td>\n",
              "    </tr>\n",
              "    <tr>\n",
              "      <th>7</th>\n",
              "      <td>Family</td>\n",
              "      <td>Willy Wonka &amp; the Chocolate Factory</td>\n",
              "      <td>7.8</td>\n",
              "    </tr>\n",
              "    <tr>\n",
              "      <th>8</th>\n",
              "      <td>Fantasy</td>\n",
              "      <td>The City of Lost Children</td>\n",
              "      <td>7.7</td>\n",
              "    </tr>\n",
              "    <tr>\n",
              "      <th>9</th>\n",
              "      <td>Film-Noir</td>\n",
              "      <td>Spellbound</td>\n",
              "      <td>7.7</td>\n",
              "    </tr>\n",
              "    <tr>\n",
              "      <th>10</th>\n",
              "      <td>History</td>\n",
              "      <td>Battleship Potemkin</td>\n",
              "      <td>8.0</td>\n",
              "    </tr>\n",
              "    <tr>\n",
              "      <th>11</th>\n",
              "      <td>Horror</td>\n",
              "      <td>Poltergeist</td>\n",
              "      <td>7.4</td>\n",
              "    </tr>\n",
              "    <tr>\n",
              "      <th>12</th>\n",
              "      <td>Mystery</td>\n",
              "      <td>Limitless</td>\n",
              "      <td>7.4</td>\n",
              "    </tr>\n",
              "    <tr>\n",
              "      <th>13</th>\n",
              "      <td>Sci-Fi</td>\n",
              "      <td>The Butterfly Effect</td>\n",
              "      <td>7.7</td>\n",
              "    </tr>\n",
              "    <tr>\n",
              "      <th>14</th>\n",
              "      <td>Thriller</td>\n",
              "      <td>Frenzy</td>\n",
              "      <td>7.5</td>\n",
              "    </tr>\n",
              "    <tr>\n",
              "      <th>15</th>\n",
              "      <td>Western</td>\n",
              "      <td>High Plains Drifter</td>\n",
              "      <td>7.6</td>\n",
              "    </tr>\n",
              "  </tbody>\n",
              "</table>\n",
              "</div>"
            ],
            "text/plain": [
              "        genre                                            title  star_rating\n",
              "0      Action  Master and Commander: The Far Side of the World          7.4\n",
              "1   Adventure                      Back to the Future Part III          7.4\n",
              "2   Animation                              Alice in Wonderland          7.4\n",
              "3   Biography                                  Man on the Moon          7.4\n",
              "4      Comedy                                          Tootsie          7.4\n",
              "5       Crime                                      Wall Street          7.4\n",
              "6       Drama                            The Cider House Rules          7.4\n",
              "7      Family              Willy Wonka & the Chocolate Factory          7.8\n",
              "8     Fantasy                        The City of Lost Children          7.7\n",
              "9   Film-Noir                                       Spellbound          7.7\n",
              "10    History                              Battleship Potemkin          8.0\n",
              "11     Horror                                      Poltergeist          7.4\n",
              "12    Mystery                                        Limitless          7.4\n",
              "13     Sci-Fi                             The Butterfly Effect          7.7\n",
              "14   Thriller                                           Frenzy          7.5\n",
              "15    Western                              High Plains Drifter          7.6"
            ]
          },
          "metadata": {},
          "output_type": "display_data"
        }
      ],
      "source": [
        "# top star rated movie in every genre\n",
        "\n",
        "# Για να εντοπίσουμε την ταινία με την καλύτερη βαθμολογία σε κάθε κατηγορία\n",
        "# θα χρησιμοποιήσουμε τα παρακάτω βήματα\n",
        "\n",
        "# 1. df.sort_values('star_rating')\n",
        "# 2. df.groupby('genre', as_index=False)\n",
        "# 3. [['title', 'star_rating']].first()\n",
        "\n",
        "# Άρα η εντολή που θα χρησιμοποιήσουμε είναι:\n",
        "\n",
        "top_star_rated_movies = df.sort_values('star_rating').groupby('genre', as_index=False)[['title', 'star_rating']].first()\n",
        "print(\"Η ταινία με την καλύτερη βαθμολογία σε κάθε κατηγορία είναι:\")\n",
        "print(top_star_rated_movies)\n",
        "display(top_star_rated_movies)\n"
      ]
    },
    {
      "cell_type": "markdown",
      "metadata": {
        "id": "dtWc21fs1iyG"
      },
      "source": [
        "## **5. Περαιτέρω αναζητήσεις, αναλύσεις και οπτικοποιήσεις των δεδομένων**\n",
        "\n",
        "Συνεχίστε τη ίδια διαδικασία για να θέσετε περαιτέρω ερωτήματα στα δεδομένα και να πάρετε περισσότερες απαντήσεις.\n",
        "\n",
        "Μερικά ενδεικτικά ερωτήματα:\n",
        "* υπάρχει σχέση μεταξύ της βαθμολογίας των ταινιών (star_rating) και του είδους των ταινιών (genre);\n",
        "* σχετίζεται η βαθμολογία (star_rating) με τον χαρακτηρισμό περιεχομένου (content_rating);\n",
        "* ποιος είναι ο μ.o. διάρκειας (average duration) των ταινιών σε κάθε είδος (genre);\n",
        "* σχετίζεται η διάρκεια (duration) με το είδος (genre);"
      ]
    },
    {
      "cell_type": "code",
      "execution_count": null,
      "metadata": {
        "id": "dn1tVWwpPAXa",
        "outputId": "3ad8ab1d-5aea-4ac3-d7e8-de4c1f431d90"
      },
      "outputs": [
        {
          "data": {
            "text/plain": [
              "<Figure size 1000x1000 with 0 Axes>"
            ]
          },
          "metadata": {},
          "output_type": "display_data"
        },
        {
          "data": {
            "image/png": "[encoded data removed]",
            "text/plain": [
              "<Figure size 640x480 with 1 Axes>"
            ]
          },
          "metadata": {},
          "output_type": "display_data"
        }
      ],
      "source": [
        "#υπάρχει σχέση μεταξύ της βαθμολογίας των ταινιών (star_rating) και του είδους των ταινιών (genre);\n",
        "\n",
        "# Για να δούμε αν υπάρχει σχέση μεταξύ της βαθμολογίας των ταινιών (star_rating) και του είδους των ταινιών (genre)\n",
        "# θα χρησιμοποιήσουμε την μέθοδο boxplot\n",
        "\n",
        "# Αρχίζουμε αρχικοποιώντας το σχήμα του γραφήματος\n",
        "plt.figure(figsize=(10, 10))\n",
        "# Στην συνέχεια ορίζουμε το είδος του γραφήματος να είναι boxplot\n",
        "df.plot(kind='box', color='green', vert=False, column = 'star_rating', by = 'genre')\n",
        "# Στην συνέχεια προσθέτουμε τίτλο και ετικέτες στους άξονες\n",
        "plt.title('Διακύμανση βαθμολογίας ταινιών')\n",
        "plt.xlabel('Βαθμολογία ταινίας')\n",
        "plt.ylabel('Κατηγορία ταινίας')\n",
        "# Τέλος καλούμε την μέθοδο show για να εμφανίσουμε το γράφημα\n",
        "plt.show()\n",
        "\n"
      ]
    },
    {
      "cell_type": "markdown",
      "metadata": {
        "id": "yaz1ZYMhPAXa"
      },
      "source": [
        "Παρατηρώντας το boxplot βλέπουμε ότι:\n",
        "\n",
        "Τα είδη Film-Noir, Western και History συγκεντρώνουν τις υψηλότερες διάμεσες βαθμολογίες (λίγο πάνω από 8.0)· οι περισσότερες ταινίες τους βρίσκονται στο ανώτερο τμήμα της κλίμακας.\n",
        "\n",
        "Στα Thriller, Fantasy και Family οι διάμεσες κυμαίνονται χαμηλότερα (≈ 7.7 – 7.9) και το IQR είναι στενό, γεγονός που δείχνει μικρή διασπορά – τα περισσότερα έργα εκεί βαθμολογούνται παρόμοια.\n",
        "\n",
        "Τα είδη Action, Adventure, Animation, Biography, Comedy και Crime εμφανίζουν μεμονωμένους ακραίους βαθμούς (> 9.0) – πρόκειται για λίγες ταινίες που ξεχωρίζουν μέσα στο είδος τους.\n",
        "\n",
        "Το Western και το Mystery έχουν τα μεγαλύτερα whiskers, συνεπώς παρουσιάζουν και τη μεγαλύτερη εσωτερική διαφοροποίηση ποιότητας.\n",
        "\n",
        "Συνολικά, το εύρος 7.4 – 9.3 καλύπτεται σχεδόν από όλα τα είδη· άρα το genre φαίνεται να επηρεάζει αλλά δεν καθορίζει απόλυτα τη βαθμολογία."
      ]
    },
    {
      "cell_type": "code",
      "execution_count": null,
      "metadata": {
        "id": "OU_y5Ia-PAXa",
        "outputId": "014a819e-63a5-4fbf-b192-d67dbf928697"
      },
      "outputs": [
        {
          "name": "stdout",
          "output_type": "stream",
          "text": [
            "Στατιστικά περιγραφικά της στήλης star_rating συναρτημένα με το genre είναι:\n"
          ]
        },
        {
          "data": {
            "text/html": [
              "<div>\n",
              "<style scoped>\n",
              "    .dataframe tbody tr th:only-of-type {\n",
              "        vertical-align: middle;\n",
              "    }\n",
              "\n",
              "    .dataframe tbody tr th {\n",
              "        vertical-align: top;\n",
              "    }\n",
              "\n",
              "    .dataframe thead th {\n",
              "        text-align: right;\n",
              "    }\n",
              "</style>\n",
              "<table border=\"1\" class=\"dataframe\">\n",
              "  <thead>\n",
              "    <tr style=\"text-align: right;\">\n",
              "      <th></th>\n",
              "      <th>genre</th>\n",
              "      <th>count</th>\n",
              "      <th>mean</th>\n",
              "      <th>std</th>\n",
              "      <th>min</th>\n",
              "      <th>25%</th>\n",
              "      <th>50%</th>\n",
              "      <th>75%</th>\n",
              "      <th>max</th>\n",
              "    </tr>\n",
              "  </thead>\n",
              "  <tbody>\n",
              "    <tr>\n",
              "      <th>0</th>\n",
              "      <td>Action</td>\n",
              "      <td>136.0</td>\n",
              "      <td>7.884559</td>\n",
              "      <td>0.333084</td>\n",
              "      <td>7.4</td>\n",
              "      <td>7.600</td>\n",
              "      <td>7.80</td>\n",
              "      <td>8.100</td>\n",
              "      <td>9.0</td>\n",
              "    </tr>\n",
              "    <tr>\n",
              "      <th>1</th>\n",
              "      <td>Adventure</td>\n",
              "      <td>75.0</td>\n",
              "      <td>7.933333</td>\n",
              "      <td>0.361802</td>\n",
              "      <td>7.4</td>\n",
              "      <td>7.650</td>\n",
              "      <td>7.90</td>\n",
              "      <td>8.100</td>\n",
              "      <td>8.9</td>\n",
              "    </tr>\n",
              "    <tr>\n",
              "      <th>2</th>\n",
              "      <td>Animation</td>\n",
              "      <td>62.0</td>\n",
              "      <td>7.914516</td>\n",
              "      <td>0.292444</td>\n",
              "      <td>7.4</td>\n",
              "      <td>7.700</td>\n",
              "      <td>7.90</td>\n",
              "      <td>8.100</td>\n",
              "      <td>8.6</td>\n",
              "    </tr>\n",
              "    <tr>\n",
              "      <th>3</th>\n",
              "      <td>Biography</td>\n",
              "      <td>77.0</td>\n",
              "      <td>7.862338</td>\n",
              "      <td>0.310364</td>\n",
              "      <td>7.4</td>\n",
              "      <td>7.600</td>\n",
              "      <td>7.80</td>\n",
              "      <td>8.100</td>\n",
              "      <td>8.9</td>\n",
              "    </tr>\n",
              "    <tr>\n",
              "      <th>4</th>\n",
              "      <td>Comedy</td>\n",
              "      <td>156.0</td>\n",
              "      <td>7.822436</td>\n",
              "      <td>0.304922</td>\n",
              "      <td>7.4</td>\n",
              "      <td>7.600</td>\n",
              "      <td>7.80</td>\n",
              "      <td>8.000</td>\n",
              "      <td>8.6</td>\n",
              "    </tr>\n",
              "    <tr>\n",
              "      <th>5</th>\n",
              "      <td>Crime</td>\n",
              "      <td>124.0</td>\n",
              "      <td>7.916935</td>\n",
              "      <td>0.392143</td>\n",
              "      <td>7.4</td>\n",
              "      <td>7.600</td>\n",
              "      <td>7.80</td>\n",
              "      <td>8.100</td>\n",
              "      <td>9.3</td>\n",
              "    </tr>\n",
              "    <tr>\n",
              "      <th>6</th>\n",
              "      <td>Drama</td>\n",
              "      <td>278.0</td>\n",
              "      <td>7.902518</td>\n",
              "      <td>0.328041</td>\n",
              "      <td>7.4</td>\n",
              "      <td>7.600</td>\n",
              "      <td>7.90</td>\n",
              "      <td>8.100</td>\n",
              "      <td>8.9</td>\n",
              "    </tr>\n",
              "    <tr>\n",
              "      <th>7</th>\n",
              "      <td>Family</td>\n",
              "      <td>2.0</td>\n",
              "      <td>7.850000</td>\n",
              "      <td>0.070711</td>\n",
              "      <td>7.8</td>\n",
              "      <td>7.825</td>\n",
              "      <td>7.85</td>\n",
              "      <td>7.875</td>\n",
              "      <td>7.9</td>\n",
              "    </tr>\n",
              "    <tr>\n",
              "      <th>8</th>\n",
              "      <td>Fantasy</td>\n",
              "      <td>1.0</td>\n",
              "      <td>7.700000</td>\n",
              "      <td>NaN</td>\n",
              "      <td>7.7</td>\n",
              "      <td>7.700</td>\n",
              "      <td>7.70</td>\n",
              "      <td>7.700</td>\n",
              "      <td>7.7</td>\n",
              "    </tr>\n",
              "    <tr>\n",
              "      <th>9</th>\n",
              "      <td>Film-Noir</td>\n",
              "      <td>3.0</td>\n",
              "      <td>8.033333</td>\n",
              "      <td>0.305505</td>\n",
              "      <td>7.7</td>\n",
              "      <td>7.900</td>\n",
              "      <td>8.10</td>\n",
              "      <td>8.200</td>\n",
              "      <td>8.3</td>\n",
              "    </tr>\n",
              "    <tr>\n",
              "      <th>10</th>\n",
              "      <td>History</td>\n",
              "      <td>1.0</td>\n",
              "      <td>8.000000</td>\n",
              "      <td>NaN</td>\n",
              "      <td>8.0</td>\n",
              "      <td>8.000</td>\n",
              "      <td>8.00</td>\n",
              "      <td>8.000</td>\n",
              "      <td>8.0</td>\n",
              "    </tr>\n",
              "    <tr>\n",
              "      <th>11</th>\n",
              "      <td>Horror</td>\n",
              "      <td>29.0</td>\n",
              "      <td>7.806897</td>\n",
              "      <td>0.337989</td>\n",
              "      <td>7.4</td>\n",
              "      <td>7.500</td>\n",
              "      <td>7.70</td>\n",
              "      <td>8.000</td>\n",
              "      <td>8.6</td>\n",
              "    </tr>\n",
              "    <tr>\n",
              "      <th>12</th>\n",
              "      <td>Mystery</td>\n",
              "      <td>16.0</td>\n",
              "      <td>7.975000</td>\n",
              "      <td>0.387298</td>\n",
              "      <td>7.4</td>\n",
              "      <td>7.575</td>\n",
              "      <td>8.10</td>\n",
              "      <td>8.225</td>\n",
              "      <td>8.6</td>\n",
              "    </tr>\n",
              "    <tr>\n",
              "      <th>13</th>\n",
              "      <td>Sci-Fi</td>\n",
              "      <td>5.0</td>\n",
              "      <td>7.920000</td>\n",
              "      <td>0.192354</td>\n",
              "      <td>7.7</td>\n",
              "      <td>7.800</td>\n",
              "      <td>7.90</td>\n",
              "      <td>8.000</td>\n",
              "      <td>8.2</td>\n",
              "    </tr>\n",
              "    <tr>\n",
              "      <th>14</th>\n",
              "      <td>Thriller</td>\n",
              "      <td>5.0</td>\n",
              "      <td>7.680000</td>\n",
              "      <td>0.216795</td>\n",
              "      <td>7.5</td>\n",
              "      <td>7.500</td>\n",
              "      <td>7.60</td>\n",
              "      <td>7.800</td>\n",
              "      <td>8.0</td>\n",
              "    </tr>\n",
              "    <tr>\n",
              "      <th>15</th>\n",
              "      <td>Western</td>\n",
              "      <td>9.0</td>\n",
              "      <td>8.255556</td>\n",
              "      <td>0.387657</td>\n",
              "      <td>7.6</td>\n",
              "      <td>8.100</td>\n",
              "      <td>8.30</td>\n",
              "      <td>8.500</td>\n",
              "      <td>8.9</td>\n",
              "    </tr>\n",
              "  </tbody>\n",
              "</table>\n",
              "</div>"
            ],
            "text/plain": [
              "        genre  count      mean       std  min    25%   50%    75%  max\n",
              "0      Action  136.0  7.884559  0.333084  7.4  7.600  7.80  8.100  9.0\n",
              "1   Adventure   75.0  7.933333  0.361802  7.4  7.650  7.90  8.100  8.9\n",
              "2   Animation   62.0  7.914516  0.292444  7.4  7.700  7.90  8.100  8.6\n",
              "3   Biography   77.0  7.862338  0.310364  7.4  7.600  7.80  8.100  8.9\n",
              "4      Comedy  156.0  7.822436  0.304922  7.4  7.600  7.80  8.000  8.6\n",
              "5       Crime  124.0  7.916935  0.392143  7.4  7.600  7.80  8.100  9.3\n",
              "6       Drama  278.0  7.902518  0.328041  7.4  7.600  7.90  8.100  8.9\n",
              "7      Family    2.0  7.850000  0.070711  7.8  7.825  7.85  7.875  7.9\n",
              "8     Fantasy    1.0  7.700000       NaN  7.7  7.700  7.70  7.700  7.7\n",
              "9   Film-Noir    3.0  8.033333  0.305505  7.7  7.900  8.10  8.200  8.3\n",
              "10    History    1.0  8.000000       NaN  8.0  8.000  8.00  8.000  8.0\n",
              "11     Horror   29.0  7.806897  0.337989  7.4  7.500  7.70  8.000  8.6\n",
              "12    Mystery   16.0  7.975000  0.387298  7.4  7.575  8.10  8.225  8.6\n",
              "13     Sci-Fi    5.0  7.920000  0.192354  7.7  7.800  7.90  8.000  8.2\n",
              "14   Thriller    5.0  7.680000  0.216795  7.5  7.500  7.60  7.800  8.0\n",
              "15    Western    9.0  8.255556  0.387657  7.6  8.100  8.30  8.500  8.9"
            ]
          },
          "metadata": {},
          "output_type": "display_data"
        }
      ],
      "source": [
        "# Παράλληλα αν θέλαμε και στατιστικά περιγραφικά της στήλης star_rating συναρτημένα με το genre\n",
        "\n",
        "# Στατιστικά περιγραφικά της στήλης star_rating\n",
        "df.groupby('genre', as_index=False)['star_rating'].describe()\n",
        "print(\"Στατιστικά περιγραφικά της στήλης star_rating συναρτημένα με το genre είναι:\")\n",
        "# print(df.groupby('genre', as_index=False)['star_rating'].describe())\n",
        "display(df.groupby('genre', as_index=False)['star_rating'].describe())"
      ]
    },
    {
      "cell_type": "code",
      "execution_count": null,
      "metadata": {
        "id": "hfdDLc8VPAXa",
        "outputId": "0f2ac405-8c98-46da-e0ca-212e41e47f5e"
      },
      "outputs": [
        {
          "data": {
            "text/plain": [
              "<Figure size 1000x1000 with 0 Axes>"
            ]
          },
          "metadata": {},
          "output_type": "display_data"
        },
        {
          "data": {
            "image/png": "[encoded data removed]",
            "text/plain": [
              "<Figure size 640x480 with 1 Axes>"
            ]
          },
          "metadata": {},
          "output_type": "display_data"
        }
      ],
      "source": [
        "# σχετίζεται η βαθμολογία (star_rating) με τον χαρακτηρισμό περιεχομένου (content_rating);\n",
        "\n",
        "# Για να δούμε αν υπάρχει σχέση μεταξύ της βαθμολογίας των ταινιών (star_rating) και του χαρακτηρισμού περιεχομένου (content_rating)\n",
        "# θα χρησιμοποιήσουμε την μέθοδο boxplot\n",
        "# Αρχίζουμε αρχικοποιώντας το σχήμα του γραφήματος\n",
        "plt.figure(figsize=(10, 10))\n",
        "# Στην συνέχεια ορίζουμε το είδος του γραφήματος να είναι boxplot\n",
        "df.plot(kind='box', color='green', vert=False, column = 'star_rating', by = 'content_rating')\n",
        "# Στην συνέχεια προσθέτουμε τίτλο και ετικέτες στους άξονες\n",
        "plt.title('Διακύμανση βαθμολογίας ταινιών')\n",
        "plt.xlabel('Βαθμολογία ταινίας')\n",
        "plt.ylabel('Κατηγορία ταινίας')\n",
        "# Τέλος καλούμε την μέθοδο show για να εμφανίσουμε το γράφημα\n",
        "plt.show()"
      ]
    },
    {
      "cell_type": "markdown",
      "metadata": {
        "id": "xpWqle33PAXa"
      },
      "source": [
        "Παρατηρώντας το boxplot διαπιστώνουμε ότι:\n",
        "\n",
        "Όλες οι κατηγορίες περιεχομένου κινούνται σχεδόν στο ίδιο κεντρικό εύρος — η διάμεση βαθμολογία βρίσκεται γύρω από 8.0.\n",
        "Άρα, η κατάταξη περιεχομένου δεν φαίνεται να «ανεβάζει» ή να «ρίχνει» δραματικά τις μέσες τιμές.\n",
        "\n",
        "Οι κατηγορίες UNRATED, R και PG-13 διαθέτουν τα περισσότερα (και υψηλότερα) ακραία σημεία > 9.0 ★, κάτι που δείχνει πως οι κορυφαίες βαθμολογίες προέρχονται κυρίως από ταινίες με πιο «ώριμο» κοινό ή χωρίς επίσημη βαθμολόγηση.\n",
        "\n",
        "Το NOT RATED εμφανίζει το μεγαλύτερο εύρος (whiskers ≈ 7.4 – 8.8), υποδηλώνοντας μεγάλη εσωτερική ποικιλία ποιότητας.\n",
        "\n",
        "Κατηγορίες με περιορισμένα δείγματα, όπως NC-17 και GP, παρουσιάζουν μικρό IQR· οι λίγες ταινίες τους τείνουν να συγκεντρώνονται κάτω από τον γενικό μέσο όρο.\n",
        "\n",
        "Συνολικά, το εύρος 7.4 – 8.8 καλύπτει σχεδόν όλες τις κατηγορίες, άρα ο χαρακτηρισμός περιεχομένου επηρεάζει ελαφρά αλλά δεν καθορίζει τη βαθμολογία."
      ]
    },
    {
      "cell_type": "code",
      "execution_count": null,
      "metadata": {
        "id": "iJKE2w3XPAXb",
        "outputId": "642c1fc2-cab6-4160-ab39-1e4508524373"
      },
      "outputs": [
        {
          "name": "stdout",
          "output_type": "stream",
          "text": [
            "Ο μ.ο. διάρκειας (average duration) των ταινιών σε κάθε είδος (genre) είναι:\n"
          ]
        },
        {
          "data": {
            "text/html": [
              "<div>\n",
              "<style scoped>\n",
              "    .dataframe tbody tr th:only-of-type {\n",
              "        vertical-align: middle;\n",
              "    }\n",
              "\n",
              "    .dataframe tbody tr th {\n",
              "        vertical-align: top;\n",
              "    }\n",
              "\n",
              "    .dataframe thead th {\n",
              "        text-align: right;\n",
              "    }\n",
              "</style>\n",
              "<table border=\"1\" class=\"dataframe\">\n",
              "  <thead>\n",
              "    <tr style=\"text-align: right;\">\n",
              "      <th></th>\n",
              "      <th>genre</th>\n",
              "      <th>duration</th>\n",
              "    </tr>\n",
              "  </thead>\n",
              "  <tbody>\n",
              "    <tr>\n",
              "      <th>0</th>\n",
              "      <td>Action</td>\n",
              "      <td>126.0</td>\n",
              "    </tr>\n",
              "    <tr>\n",
              "      <th>1</th>\n",
              "      <td>Adventure</td>\n",
              "      <td>135.0</td>\n",
              "    </tr>\n",
              "    <tr>\n",
              "      <th>2</th>\n",
              "      <td>Animation</td>\n",
              "      <td>97.0</td>\n",
              "    </tr>\n",
              "    <tr>\n",
              "      <th>3</th>\n",
              "      <td>Biography</td>\n",
              "      <td>132.0</td>\n",
              "    </tr>\n",
              "    <tr>\n",
              "      <th>4</th>\n",
              "      <td>Comedy</td>\n",
              "      <td>108.0</td>\n",
              "    </tr>\n",
              "    <tr>\n",
              "      <th>5</th>\n",
              "      <td>Crime</td>\n",
              "      <td>122.0</td>\n",
              "    </tr>\n",
              "    <tr>\n",
              "      <th>6</th>\n",
              "      <td>Drama</td>\n",
              "      <td>127.0</td>\n",
              "    </tr>\n",
              "    <tr>\n",
              "      <th>7</th>\n",
              "      <td>Family</td>\n",
              "      <td>108.0</td>\n",
              "    </tr>\n",
              "    <tr>\n",
              "      <th>8</th>\n",
              "      <td>Fantasy</td>\n",
              "      <td>112.0</td>\n",
              "    </tr>\n",
              "    <tr>\n",
              "      <th>9</th>\n",
              "      <td>Film-Noir</td>\n",
              "      <td>97.0</td>\n",
              "    </tr>\n",
              "    <tr>\n",
              "      <th>10</th>\n",
              "      <td>History</td>\n",
              "      <td>66.0</td>\n",
              "    </tr>\n",
              "    <tr>\n",
              "      <th>11</th>\n",
              "      <td>Horror</td>\n",
              "      <td>103.0</td>\n",
              "    </tr>\n",
              "    <tr>\n",
              "      <th>12</th>\n",
              "      <td>Mystery</td>\n",
              "      <td>116.0</td>\n",
              "    </tr>\n",
              "    <tr>\n",
              "      <th>13</th>\n",
              "      <td>Sci-Fi</td>\n",
              "      <td>109.0</td>\n",
              "    </tr>\n",
              "    <tr>\n",
              "      <th>14</th>\n",
              "      <td>Thriller</td>\n",
              "      <td>114.0</td>\n",
              "    </tr>\n",
              "    <tr>\n",
              "      <th>15</th>\n",
              "      <td>Western</td>\n",
              "      <td>137.0</td>\n",
              "    </tr>\n",
              "  </tbody>\n",
              "</table>\n",
              "</div>"
            ],
            "text/plain": [
              "        genre  duration\n",
              "0      Action     126.0\n",
              "1   Adventure     135.0\n",
              "2   Animation      97.0\n",
              "3   Biography     132.0\n",
              "4      Comedy     108.0\n",
              "5       Crime     122.0\n",
              "6       Drama     127.0\n",
              "7      Family     108.0\n",
              "8     Fantasy     112.0\n",
              "9   Film-Noir      97.0\n",
              "10    History      66.0\n",
              "11     Horror     103.0\n",
              "12    Mystery     116.0\n",
              "13     Sci-Fi     109.0\n",
              "14   Thriller     114.0\n",
              "15    Western     137.0"
            ]
          },
          "metadata": {},
          "output_type": "display_data"
        }
      ],
      "source": [
        "# ποιος είναι ο μ.o. διάρκειας (average duration) των ταινιών σε κάθε είδος (genre);\n",
        "\n",
        "# Για να δούμε ποιος είναι ο μ.ο. διάρκειας (average duration) των ταινιών σε κάθε είδος (genre)\n",
        "# θα χρησιμοποιήσουμε την μέθοδο groupby και την μέθοδο mean\n",
        "\n",
        "average_duration = round(df.groupby('genre', as_index=False)['duration'].mean())\n",
        "print(\"Ο μ.ο. διάρκειας (average duration) των ταινιών σε κάθε είδος (genre) είναι:\")\n",
        "# print(average_duration)\n",
        "display(average_duration)"
      ]
    },
    {
      "cell_type": "code",
      "execution_count": null,
      "metadata": {
        "id": "V_T5G_m8PAXb",
        "outputId": "669bf1f2-ba7c-4e9b-fb1c-162a6faf6593"
      },
      "outputs": [
        {
          "data": {
            "text/plain": [
              "<Figure size 1000x1000 with 0 Axes>"
            ]
          },
          "metadata": {},
          "output_type": "display_data"
        },
        {
          "data": {
            "image/png": "[encoded data removed]",
            "text/plain": [
              "<Figure size 640x480 with 1 Axes>"
            ]
          },
          "metadata": {},
          "output_type": "display_data"
        }
      ],
      "source": [
        "# παρόμοια αναπαράσταση με την μέθοδο boxplot\n",
        "\n",
        "# Αρχίζουμε αρχικοποιώντας το σχήμα του γραφήματος\n",
        "plt.figure(figsize=(10, 10))\n",
        "# Στην συνέχεια ορίζουμε το είδος του γραφήματος να είναι boxplot\n",
        "df.plot(kind='box', color='green', vert=False, column = 'duration', by = 'genre')\n",
        "# Στην συνέχεια προσθέτουμε τίτλο και ετικέτες στους άξονες\n",
        "plt.title('Διακύμανση διάρκειας ταινιών')\n",
        "plt.xlabel('Διάρκεια ταινίας')\n",
        "plt.ylabel('Κατηγορία ταινίας')\n",
        "# Τέλος καλούμε την μέθοδο show για να εμφανίσουμε το γράφημα\n",
        "plt.show()"
      ]
    },
    {
      "cell_type": "markdown",
      "metadata": {
        "id": "AyqCPjqbPAXb"
      },
      "source": [
        "Παρατηρούμε ότι το boxplot ταιριάζει με την παραπάνω λίστα"
      ]
    },
    {
      "cell_type": "code",
      "execution_count": null,
      "metadata": {
        "id": "jsJcPr3nPAXb",
        "outputId": "4a572630-3eeb-4f4f-9c1e-31f257d02a00"
      },
      "outputs": [
        {
          "data": {
            "text/plain": [
              "<Figure size 1000x1000 with 0 Axes>"
            ]
          },
          "metadata": {},
          "output_type": "display_data"
        },
        {
          "data": {
            "image/png": "[encoded data removed]",
            "text/plain": [
              "<Figure size 640x480 with 1 Axes>"
            ]
          },
          "metadata": {},
          "output_type": "display_data"
        }
      ],
      "source": [
        "# σχετίζεται η διάρκεια (duration) με το είδος (genre);\n",
        "\n",
        "# Για να δούμε αν υπάρχει σχέση μεταξύ της διάρκειας των ταινιών (duration) και του είδους των ταινιών (genre)\n",
        "# θα χρησιμοποιήσουμε την μέθοδο boxplot\n",
        "\n",
        "# Αρχίζουμε αρχικοποιώντας το σχήμα του γραφήματος\n",
        "plt.figure(figsize=(10, 10))\n",
        "# Στην συνέχεια ορίζουμε το είδος του γραφήματος να είναι boxplot\n",
        "df.plot(kind='box', color='green', vert=False, column = 'duration', by = 'genre')\n",
        "# Στην συνέχεια προσθέτουμε τίτλο και ετικέτες στους άξονες\n",
        "plt.title('Διακύμανση διάρκειας ταινιών')\n",
        "plt.xlabel('Διάρκεια ταινίας')\n",
        "plt.ylabel('Κατηγορία ταινίας')\n",
        "# Τέλος καλούμε την μέθοδο show για να εμφανίσουμε το γράφημα\n",
        "plt.show()"
      ]
    },
    {
      "cell_type": "markdown",
      "metadata": {
        "id": "TrzQErUsPAXb"
      },
      "source": [
        "Παρατηρώντας το boxplot βλέπουμε ότι:\n",
        "\n",
        "Adventure, Western, Drama και Biography έχουν τις μεγαλύτερες διάμεσες διάρκειες περίπου 135 λεπτά και εκτεταμένα whiskers.\n",
        "\n",
        "Αντιθέτως, οι κατηγορίες Animation, Film-Noir, Thriller και Fantasy κινούνται χαμηλότερα με διακύμανση περίπου 100 λεπτά με μικρό IQR, κάτι που δείχνει ότι οι περισσότερες είναι σύντομες και σχετικά ομοιογενείς στο μήκος.\n",
        "\n",
        "Τα Action και Crime παρουσιάζουν μεγάλη διασπορά, διαρκούν περίπου 120 λεπτά και εμφανίζουν και αρκετές περιπτώσεις που διαρκούν 190–240 λεπτά.\n",
        "\n",
        "Οι τιμές > 200 λεπτών προέρχονται σχεδόν αποκλειστικά από Action, Adventure και Drama· στις υπόλοιπες κατηγορίες τα upper whiskers σπάνια ξεπερνούν τα 175 λεπτά.\n",
        "\n",
        "Το είδος History φαίνεται να αντιπροσωπεύεται από ελάχιστα δείγματα στο συγκεκριμένο dataset γι’ αυτό το κουτί είναι συμπιεσμένο σε μία τιμή γύρω στα 70–80 λεπτά.\n",
        "\n",
        "Συνολικά, το εύρος 90 – 175 λεπτά καλύπτει τις βασικές μάζες όλων των ειδών, ωστόσο ορισμένες κατηγορίες έχουν μεγαλύτερες διάρκειες.\n",
        "\n",
        "Άρα η κατηγορία σχετίζεται με τη διάρκεια."
      ]
    }
  ],
  "metadata": {
    "colab": {
      "provenance": [],
      "include_colab_link": true
    },
    "kernelspec": {
      "display_name": "base",
      "language": "python",
      "name": "python3"
    },
    "language_info": {
      "codemirror_mode": {
        "name": "ipython",
        "version": 3
      },
      "file_extension": ".py",
      "mimetype": "text/x-python",
      "name": "python",
      "nbconvert_exporter": "python",
      "pygments_lexer": "ipython3",
      "version": "3.12.9"
    }
  },
  "nbformat": 4,
  "nbformat_minor": 0
}