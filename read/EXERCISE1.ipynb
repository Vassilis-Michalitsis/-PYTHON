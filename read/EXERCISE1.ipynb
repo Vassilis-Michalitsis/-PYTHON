{
  "nbformat": 4,
  "nbformat_minor": 0,
  "metadata": {
    "colab": {
      "provenance": [],
      "toc_visible": true,
      "include_colab_link": true
    },
    "kernelspec": {
      "name": "python3",
      "display_name": "Python 3"
    },
    "language_info": {
      "name": "python"
    }
  },
  "cells": [
    {
      "cell_type": "markdown",
      "metadata": {
        "id": "view-in-github",
        "colab_type": "text"
      },
      "source": [
        "<a href=\"https://colab.research.google.com/github/Vassilis-Michalitsis/-PYTHON/blob/main/read/EXERCISE1.ipynb\" target=\"_parent\"><img src=\"https://colab.research.google.com/assets/colab-badge.svg\" alt=\"Open In Colab\"/></a>"
      ]
    },
    {
      "cell_type": "markdown",
      "source": [
        "Δημιουργήστε τις παρακάτω μεταβλητές:\n",
        "- όνομα\n",
        "- επώνυμο\n",
        "- αριθμός μητρώου\n",
        "- μάθημα 1\n",
        "- μάθημα 2\n",
        "- μάθημα 3\n",
        "- βαθμός μαθήματος 1\n",
        "- βαθμός μαθήματος 2\n",
        "- βαθμός μαθήματος 3\n",
        "\n",
        "Σε κάθε μεταβλητή δώστε την αντίστοιχη τιμή, με το σωστό τύπο δεδομένων (string, integer).\n",
        "\n",
        "Τυπώστε στην οθόνη (print) τις τιμές όλων των μεταβλητών που ορίσατε.\n",
        "\n",
        "**Hints**:\n",
        "- όπου η τιμή είναι αριθμός, σκεφτείτε αν θα χρησιμοποιήσετε stirng ή integer, ανάλογα με το αν χρειάζεται να κάνετε αργότερα αριθμητικές πράξεις\n",
        "- χρησιμοποιήστε ονόματα μεταβλητών που να έχουν νόημα\n",
        "- εάν γράψετε όλες τις εντολές σε ένα κελί, όταν φτάσετε στο τέλος στο σημείο να γράψετε την εντολή `print`, το colab θα σας προτείνει να γράψετε μέσα στις παρενθέσεις όλες τις μεταβλητές. Πατήστε `tab` για να αποδεχτείτε την πρόταση που σας κάνει."
      ],
      "metadata": {
        "id": "JZISjhuEQFOB"
      }
    },
    {
      "cell_type": "code",
      "execution_count": null,
      "metadata": {
        "id": "cRnQhimEPhY0"
      },
      "outputs": [],
      "source": [
        "onoma = \"Γιάννης\"\n",
        "eponymo = \"Παπαδόπουλος\"\n",
        "arithmos_mitroou = 123456\n",
        "mathima1 = \"Μαθηματικά\"\n",
        "mathima2 = \"Φυσική\"\n",
        "mathima3 = \"Χημεία\"\n",
        "vathmos_mathimatos1 = 8\n",
        "vathmos_mathimatos2 = 7\n",
        "vathmos_mathimatos3 = 9"
      ]
    },
    {
      "cell_type": "markdown",
      "source": [
        "Υπολογίστε το μέσο όρο των βαθμών των 3 μαθημάτων, αποθηκεύστε τον σε μια μεταβλητή και τυπώστε την τιμή της μεταβλητής του μέσου όρου στην οθόνη.\n",
        "\n",
        "**Hints**:\n",
        "- ο μέσος όρος υπολογίζεται με τη φόρμουλα: <άθροισμα επιμέρους τιμών> δια <πλήθος τιμών>\n",
        "- για τον υπολογισμό του μέσου όρου χρησιμοποιήστε τα ονόματα των μεταβλητών των επιμέρους τιμών και όχι τις τιμές τους"
      ],
      "metadata": {
        "id": "uPD0W-qcWcfV"
      }
    },
    {
      "cell_type": "code",
      "source": [
        "mesos_oros = (vathmos_mathimatos1 + vathmos_mathimatos2 + vathmos_mathimatos3) / 3"
      ],
      "metadata": {
        "id": "Z0OnhXMURzMR"
      },
      "execution_count": null,
      "outputs": []
    },
    {
      "cell_type": "markdown",
      "source": [
        "Τυπώστε στην οθόνη την τιμή του μέσου όρου και τον τύπο δεδομένων της μεταβλητής του μέσου όρου."
      ],
      "metadata": {
        "id": "3lDi2k3iYoWe"
      }
    },
    {
      "cell_type": "code",
      "source": [
        "print(\"Μέσος Όρος:\", mesos_oros)\n",
        "print(\"Τύπος Δεδομένων του Μέσου Όρου:\", type(mesos_oros))"
      ],
      "metadata": {
        "id": "ET5xvgxTZAJb",
        "outputId": "c94fb97a-f575-4d22-f50d-9b0cdd1e89da",
        "colab": {
          "base_uri": "https://localhost:8080/"
        }
      },
      "execution_count": null,
      "outputs": [
        {
          "output_type": "stream",
          "name": "stdout",
          "text": [
            "Μέσος Όρος: 8.0\n",
            "Τύπος Δεδομένων του Μέσου Όρου: <class 'float'>\n"
          ]
        }
      ]
    },
    {
      "cell_type": "markdown",
      "source": [
        "Μετατρέψτε το μέσο όρο σε ακέραιο (integer) και τυπώστε το αποτέλεσμα στην οθόνη."
      ],
      "metadata": {
        "id": "y-QK_9DmZHAF"
      }
    },
    {
      "cell_type": "code",
      "source": [
        "mesos_oros_akeraios = int(mesos_oros)\n",
        "print(\"Μέσος Όρος (Ακέραιος):\", mesos_oros_akeraios)"
      ],
      "metadata": {
        "id": "VV13wQMoR69T",
        "outputId": "e524a670-861e-4d3a-9f88-69ab1f9ac87c",
        "colab": {
          "base_uri": "https://localhost:8080/"
        }
      },
      "execution_count": null,
      "outputs": [
        {
          "output_type": "stream",
          "name": "stdout",
          "text": [
            "Μέσος Όρος (Ακέραιος): 8\n"
          ]
        }
      ]
    },
    {
      "cell_type": "markdown",
      "source": [
        "Αλλάξτε τις τιμές των μεταβλητών των βαθμών των μαθημάτων και ξαναϋπολογίστε τον μέσο όρο."
      ],
      "metadata": {
        "id": "2UZvmxOPayZM"
      }
    },
    {
      "cell_type": "code",
      "source": [
        "vathmos_mathimatos1 = 6\n",
        "vathmos_mathimatos2 = 6\n",
        "vathmos_mathimatos3 = 7\n",
        "neos_mesos_oros = (vathmos_mathimatos1 + vathmos_mathimatos2 + vathmos_mathimatos3) / 3\n",
        "print(\"Νέος Μέσος Όρος:\", neos_mesos_oros)"
      ],
      "metadata": {
        "id": "Pt7S8erXeasx",
        "outputId": "9dc58154-d287-4641-fd63-49c78d9997c5",
        "colab": {
          "base_uri": "https://localhost:8080/"
        }
      },
      "execution_count": null,
      "outputs": [
        {
          "output_type": "stream",
          "name": "stdout",
          "text": [
            "Νέος Μέσος Όρος: 6.333333333333333\n"
          ]
        }
      ]
    },
    {
      "cell_type": "markdown",
      "source": [
        "Δημιουργήστε ένα νέο κελί κώδικα.\n",
        "\n",
        "Μέσα στο κελί γράφει: Start coding or generate with AI. Πατήστε τη λέξη generate.\n",
        "\n",
        "Στο κελί Generate που εμφανίζεται γράψτε ένα prompt με το οποίο να του ζητάτε να αλλάξει τη μεταβλητή grade1 σε 5 και να ξαναϋπολογίσει τον μέσο όρο."
      ],
      "metadata": {
        "id": "1dhIvNXCecFf"
      }
    },
    {
      "cell_type": "code",
      "source": [
        "vathmos_mathimatos1 = 5\n",
        "neos_mesos_oros = (vathmos_mathimatos1 + vathmos_mathimatos2 + vathmos_mathimatos3) / 3\n",
        "print(\"Νέος Μέσος Όρος:\", neos_mesos_oros)"
      ],
      "metadata": {
        "id": "9yTveSV_bLbV",
        "outputId": "9acdff2b-7b0a-4dbf-d013-71caba1209b9",
        "colab": {
          "base_uri": "https://localhost:8080/"
        }
      },
      "execution_count": null,
      "outputs": [
        {
          "output_type": "stream",
          "name": "stdout",
          "text": [
            "Νέος Μέσος Όρος: 6.0\n"
          ]
        }
      ]
    }
  ]
}